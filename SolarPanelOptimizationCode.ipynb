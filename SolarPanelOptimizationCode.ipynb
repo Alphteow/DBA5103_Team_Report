{
 "cells": [
  {
   "cell_type": "code",
   "execution_count": 63,
   "metadata": {},
   "outputs": [],
   "source": [
    "import gurobipy as gp\n",
    "from gurobipy import GRB\n",
    "import pandas as pd"
   ]
  },
  {
   "cell_type": "code",
   "execution_count": 78,
   "metadata": {},
   "outputs": [],
   "source": [
    "regions_dict = {\n",
    "    \"Central\": [\n",
    "        \"CENTRAL AREA\", \"BISHAN\", \"BUKIT MERAH\", \"BUKIT TIMAH\", \"DOWNTOWN CORE\", \"GEYLANG\", \"KALLANG\",\n",
    "        \"MARINA EAST\", \"MARINA SOUTH\", \"MARINE PARADE\", \"MUSEUM\", \"NEWTON\", \"NOVENA\", \"ORCHARD\", \"OUTRAM\",\n",
    "        \"QUEENSTOWN\", \"RIVER VALLEY\", \"ROCHOR\", \"SINGAPORE RIVER\", \"SOUTHERN ISLANDS\", \"STRAITS VIEW\", \"TANGLIN\", \"TOA PAYOH\"\n",
    "    ],\n",
    "    \"East\": [\"BEDOK\", \"CHANGI\", \"CHANGI BAY\", \"PASIR RIS\", \"PAYA LEBAR\", \"TAMPINES\"],\n",
    "    \"North\": [\"CENTRAL WATER CATCHMENT\", \"LIM CHU KANG\", \"MANDAI\", \"SEMBAWANG\", \"SIMPANG\", \"SUNGEI KADUT\", \"WOODLANDS\", \"YISHUN\"],\n",
    "    \"North-East\": [\"ANG MO KIO\", \"HOUGANG\", \"NORTH-EASTERN ISLANDS\", \"PUNGGOL\", \"SELETAR\", \"SENGKANG\", \"SERANGOON\"],\n",
    "    \"West\": [\"BOON LAY\", \"BUKIT BATOK\", \"BUKIT PANJANG\", \"CHOA CHU KANG\", \"CLEMENTI\", \"JURONG EAST\", \"JURONG WEST\",\n",
    "             \"PIONEER\", \"TENGAH\", \"TUAS\", \"WESTERN ISLANDS\", \"WESTERN WATER CATCHMENT\"]\n",
    "}\n",
    "\n",
    "df_carpark = pd.read_csv(\"HDBCarparkInformation.csv\")\n",
    "\n",
    "# Function to assign region based on address\n",
    "def get_region(address):\n",
    "    for region, areas in regions_dict.items():\n",
    "        if any(area in address for area in areas):\n",
    "            return region\n",
    "    return 'Unknown'\n",
    "\n",
    "# Apply the function to create the 'region' column\n",
    "df_carpark['region'] = df_carpark['address'].apply(get_region)\n",
    "df_carpark.to_csv('Checkmark1.csv')"
   ]
  },
  {
   "cell_type": "code",
   "execution_count": 64,
   "metadata": {},
   "outputs": [
    {
     "data": {
      "text/plain": [
       "{'Central Region': 88877.8,\n",
       " 'East Region': 27358.199999999997,\n",
       " 'North East Region': 23995.5,\n",
       " 'North Region': 23482.0,\n",
       " 'West Region': 19945.699999999997}"
      ]
     },
     "execution_count": 64,
     "metadata": {},
     "output_type": "execute_result"
    }
   ],
   "source": [
    "# Load the Excel file\n",
    "file_name = \"SES_2024_tidy.xlsx.coredownload.xlsx\"\n",
    "sheet_name = \"T3.5\"\n",
    "\n",
    "# Read the data from the Excel file\n",
    "df = pd.read_excel(file_name, sheet_name=sheet_name)\n",
    "df = df.fillna(0)\n",
    "\n",
    "# Treat the random 's' as 0\n",
    "df['Kwh_Per_Acc_Cleaned'] = df['Kwh Per Acc'].apply(lambda x: 0 if isinstance(x, str) and 's' in x else x) \n",
    "\n",
    "# Filter the data for the year 2024 and 'Dwelling Type' as 'overall'\n",
    "filtered_data = df[(df['Year'] == 2024) & (df['Dwelling Type'] == 'Overall')]\n",
    "\n",
    "# Calculate total consumption per region\n",
    "regions = ['Central Region', 'East Region', 'North East Region', 'North Region', 'West Region']\n",
    "demand_kW_per_region = {\n",
    "    region: filtered_data[filtered_data['Region'] == region]['Kwh_Per_Acc_Cleaned'].astype(float).sum()\n",
    "    for region in regions\n",
    "}\n",
    "\n",
    "demand_kW_per_region"
   ]
  },
  {
   "cell_type": "code",
   "execution_count": 65,
   "metadata": {},
   "outputs": [],
   "source": [
    "# Define other parameters\n",
    "types_of_panels = ['Monocrystalline', 'Polycrystalline', 'Thin-film']\n",
    "efficiency = {'Monocrystalline': 0.15, 'Polycrystalline': 0.13, 'Thin-film': 0.07}\n",
    "fixed_cost = {'Monocrystalline': 0.75, 'Polycrystalline': 0.70, 'Thin-film': 0.30}\n",
    "install_cost = {'Monocrystalline': 300, 'Polycrystalline': 250, 'Thin-film': 200}\n",
    "maintenance_cost_percentage = 0.01\n",
    "panel_area_ft2 = 225 # Assuming the size of the panels are 15x15\n",
    "panel_area_m2 = panel_area_ft2 * 0.092903\n",
    "available_space_m2 = 2559.5\n",
    "max_power_per_panel_kW = 400  # Maximum power per panel in kW\n",
    "budget_limit = 1_000_000  # Budget limit in dollars"
   ]
  },
  {
   "cell_type": "code",
   "execution_count": 66,
   "metadata": {},
   "outputs": [],
   "source": [
    "# Create a new model\n",
    "model = gp.Model(\"solar_optimization\")\n",
    "\n",
    "# Decision variables\n",
    "x = model.addVars(regions, types_of_panels, vtype=GRB.INTEGER, name=\"x\")\n",
    "y = model.addVars(regions, types_of_panels, vtype=GRB.BINARY, name=\"y\")"
   ]
  },
  {
   "cell_type": "code",
   "execution_count": 67,
   "metadata": {},
   "outputs": [],
   "source": [
    "# Objective function: Minimize total cost\n",
    "model.setObjective(\n",
    "    gp.quicksum(\n",
    "        (fixed_cost[j] + install_cost[j] + maintenance_cost_percentage * (fixed_cost[j] + install_cost[j])) * x[i, j]\n",
    "        for i in regions for j in types_of_panels\n",
    "    ),\n",
    "    GRB.MINIMIZE\n",
    ")"
   ]
  },
  {
   "cell_type": "markdown",
   "metadata": {},
   "source": [
    "<h3>Can budget by maximum number of panels you want to build if you do this way it's 1000 in the last line</h3>"
   ]
  },
  {
   "cell_type": "code",
   "execution_count": 68,
   "metadata": {},
   "outputs": [],
   "source": [
    "# # Constraints\n",
    "# for i in regions:\n",
    "#     # Demand constraint with maximum power per panel\n",
    "#     model.addConstr(\n",
    "#         gp.quicksum(efficiency[j] * max_power_per_panel_kW * x[i, j] for j in types_of_panels) >= demand_kW_per_region[i],\n",
    "#         name=f\"demand_{i}\"\n",
    "#     )\n",
    "\n",
    "#     # Space constraint\n",
    "#     model.addConstr(\n",
    "#         gp.quicksum(x[i, j] * panel_area_m2 for j in types_of_panels) <= available_space_m2,\n",
    "#         name=f\"space_{i}\"\n",
    "#     )\n",
    "\n",
    "#     # Installation constraints\n",
    "#     for j in types_of_panels:\n",
    "#         model.addConstr(x[i, j] <= 1000 * y[i, j], name=f\"install_{i}_{j}\")"
   ]
  },
  {
   "cell_type": "markdown",
   "metadata": {},
   "source": [
    "<h3>Or if you do this way then you budget by the money set in the cell above. For now I put $1 mil</h3>"
   ]
  },
  {
   "cell_type": "code",
   "execution_count": 69,
   "metadata": {},
   "outputs": [
    {
     "data": {
      "text/plain": [
       "<gurobi.Constr *Awaiting Model Update*>"
      ]
     },
     "execution_count": 69,
     "metadata": {},
     "output_type": "execute_result"
    }
   ],
   "source": [
    "# Constraints\n",
    "for i in regions:\n",
    "    # Demand constraint with maximum power per panel\n",
    "    model.addConstr(\n",
    "        gp.quicksum(efficiency[j] * max_power_per_panel_kW * x[i, j] for j in types_of_panels) >= demand_kW_per_region[i],\n",
    "        name=f\"demand_{i}\"\n",
    "    )\n",
    "\n",
    "    # Space constraint\n",
    "    model.addConstr(\n",
    "        gp.quicksum(x[i, j] * panel_area_m2 for j in types_of_panels) <= available_space_m2,\n",
    "        name=f\"space_{i}\"\n",
    "    )\n",
    "\n",
    "    # Installation constraints\n",
    "    for j in types_of_panels:\n",
    "        model.addConstr(x[i, j] <= 1000 * y[i, j], name=f\"install_{i}_{j}\")\n",
    "\n",
    "# Budget constraint\n",
    "model.addConstr(\n",
    "    gp.quicksum(\n",
    "        (fixed_cost[j] + install_cost[j] + maintenance_cost_percentage * (fixed_cost[j] + install_cost[j])) * x[i, j]\n",
    "        for i in regions for j in types_of_panels\n",
    "    ) <= budget_limit,\n",
    "    name=\"budget\"\n",
    ")"
   ]
  },
  {
   "cell_type": "code",
   "execution_count": 70,
   "metadata": {},
   "outputs": [
    {
     "name": "stdout",
     "output_type": "stream",
     "text": [
      "Set parameter LogFile to value \"gurobi_log.txt\"\n",
      "Gurobi Optimizer version 11.0.3 build v11.0.3rc0 (win64 - Windows 11.0 (22631.2))\n",
      "\n",
      "CPU model: AMD Ryzen 7 5825U with Radeon Graphics, instruction set [SSE2|AVX|AVX2]\n",
      "Thread count: 8 physical cores, 16 logical processors, using up to 16 threads\n",
      "\n",
      "Optimize a model with 26 rows, 30 columns and 75 nonzeros\n",
      "Model fingerprint: 0x793a5b42\n",
      "Variable types: 0 continuous, 30 integer (15 binary)\n",
      "Coefficient statistics:\n",
      "  Matrix range     [1e+00, 1e+03]\n",
      "  Objective range  [2e+02, 3e+02]\n",
      "  Bounds range     [1e+00, 1e+00]\n",
      "  RHS range        [3e+03, 1e+06]\n",
      "Presolve removed 18 rows and 15 columns\n",
      "Presolve time: 0.00s\n",
      "Presolved: 8 rows, 15 columns, 36 nonzeros\n",
      "Variable types: 0 continuous, 15 integer (0 binary)\n",
      "Found heuristic solution: objective 924476.83600\n",
      "\n",
      "Root relaxation: objective 9.014740e+05, 4 iterations, 0.00 seconds (0.00 work units)\n",
      "\n",
      "    Nodes    |    Current Node    |     Objective Bounds      |     Work\n",
      " Expl Unexpl |  Obj  Depth IntInf | Incumbent    BestBd   Gap | It/Node Time\n",
      "\n",
      "     0     0 901474.016    0    5 924476.836 901474.016  2.49%     -    0s\n",
      "H    0     0                    902018.82950 901474.016  0.06%     -    0s\n",
      "H    0     0                    901765.06700 901474.016  0.03%     -    0s\n",
      "     0     0 901598.807    0    6 901765.067 901598.807  0.02%     -    0s\n",
      "*    0     0               0    901663.41050 901663.410  0.00%     -    0s\n",
      "\n",
      "Cutting planes:\n",
      "  Gomory: 1\n",
      "  MIR: 5\n",
      "  StrongCG: 2\n",
      "\n",
      "Explored 1 nodes (12 simplex iterations) in 0.05 seconds (0.00 work units)\n",
      "Thread count was 16 (of 16 available processors)\n",
      "\n",
      "Solution count 4: 901663 901765 902019 924477 \n",
      "\n",
      "Optimal solution found (tolerance 1.00e-04)\n",
      "Best objective 9.016634105000e+05, best bound 9.016634105000e+05, gap 0.0000%\n"
     ]
    }
   ],
   "source": [
    "# Set the txt file to see the logs\n",
    "model.setParam('LogFile', 'gurobi_log.txt')\n",
    "model.setParam('OutputFlag', 1) \n",
    "\n",
    "# Optimize the model\n",
    "model.optimize()\n",
    "\n",
    "# In case we mess up and we wanna see the variables \n",
    "if model.status == GRB.INFEASIBLE:\n",
    "    model.computeIIS()\n",
    "    model.write(\"model.ilp\")"
   ]
  },
  {
   "cell_type": "code",
   "execution_count": 71,
   "metadata": {},
   "outputs": [
    {
     "name": "stdout",
     "output_type": "stream",
     "text": [
      "Optimal solution found:\n",
      "Region: Central Region, Monocrystalline: 619.0 panels, Build: 1.0\n",
      "Region: Central Region, Polycrystalline: 995.0 panels, Build: 1.0\n",
      "Region: Central Region, Thin-film: 0.0 panels, Build: 1.0\n",
      "Region: East Region, Monocrystalline: 1.0 panels, Build: 1.0\n",
      "Region: East Region, Polycrystalline: 525.0 panels, Build: 1.0\n",
      "Region: East Region, Thin-film: 0.0 panels, Build: 1.0\n",
      "Region: North East Region, Monocrystalline: 3.0 panels, Build: 1.0\n",
      "Region: North East Region, Polycrystalline: 458.0 panels, Build: 1.0\n",
      "Region: North East Region, Thin-film: 0.0 panels, Build: 1.0\n",
      "Region: North Region, Monocrystalline: 4.0 panels, Build: 1.0\n",
      "Region: North Region, Polycrystalline: 447.0 panels, Build: 1.0\n",
      "Region: North Region, Thin-film: 0.0 panels, Build: 1.0\n",
      "Region: West Region, Monocrystalline: 4.0 panels, Build: 1.0\n",
      "Region: West Region, Polycrystalline: 379.0 panels, Build: 1.0\n",
      "Region: West Region, Thin-film: 0.0 panels, Build: 1.0\n",
      "Total Cost: $901663.4104999998\n"
     ]
    }
   ],
   "source": [
    "# Print the results\n",
    "if model.status == GRB.OPTIMAL:\n",
    "    print(\"Optimal solution found:\")\n",
    "    for i in regions:\n",
    "        for j in types_of_panels:\n",
    "            print(f\"Region: {i}, {j}: {x[i, j].x} panels, Build: {y[i, j].x}\")\n",
    "    print(f\"Total Cost: ${model.objVal}\")\n",
    "else:\n",
    "    print(\"No optimal solution found.\")"
   ]
  },
  {
   "cell_type": "code",
   "execution_count": 72,
   "metadata": {},
   "outputs": [
    {
     "name": "stdout",
     "output_type": "stream",
     "text": [
      "Constraint: demand_Central Region, Expression: 60.0 x[Central Region,Monocrystalline] + 52.0 x[Central Region,Polycrystalline] + 28.000000000000004 x[Central Region,Thin-film], RHS: 88877.8\n",
      "Constraint: space_Central Region, Expression: 1.393545 x[Central Region,Monocrystalline] + 1.393545 x[Central Region,Polycrystalline] + 1.393545 x[Central Region,Thin-film], RHS: 2559.5\n",
      "Constraint: install_Central Region_Monocrystalline, Expression: x[Central Region,Monocrystalline] + -1000.0 y[Central Region,Monocrystalline], RHS: 0.0\n",
      "Constraint: install_Central Region_Polycrystalline, Expression: x[Central Region,Polycrystalline] + -1000.0 y[Central Region,Polycrystalline], RHS: 0.0\n",
      "Constraint: install_Central Region_Thin-film, Expression: x[Central Region,Thin-film] + -1000.0 y[Central Region,Thin-film], RHS: 0.0\n",
      "Constraint: demand_East Region, Expression: 60.0 x[East Region,Monocrystalline] + 52.0 x[East Region,Polycrystalline] + 28.000000000000004 x[East Region,Thin-film], RHS: 27358.199999999997\n",
      "Constraint: space_East Region, Expression: 1.393545 x[East Region,Monocrystalline] + 1.393545 x[East Region,Polycrystalline] + 1.393545 x[East Region,Thin-film], RHS: 2559.5\n",
      "Constraint: install_East Region_Monocrystalline, Expression: x[East Region,Monocrystalline] + -1000.0 y[East Region,Monocrystalline], RHS: 0.0\n",
      "Constraint: install_East Region_Polycrystalline, Expression: x[East Region,Polycrystalline] + -1000.0 y[East Region,Polycrystalline], RHS: 0.0\n",
      "Constraint: install_East Region_Thin-film, Expression: x[East Region,Thin-film] + -1000.0 y[East Region,Thin-film], RHS: 0.0\n",
      "Constraint: demand_North East Region, Expression: 60.0 x[North East Region,Monocrystalline] + 52.0 x[North East Region,Polycrystalline] + 28.000000000000004 x[North East Region,Thin-film], RHS: 23995.5\n",
      "Constraint: space_North East Region, Expression: 1.393545 x[North East Region,Monocrystalline] + 1.393545 x[North East Region,Polycrystalline] + 1.393545 x[North East Region,Thin-film], RHS: 2559.5\n",
      "Constraint: install_North East Region_Monocrystalline, Expression: x[North East Region,Monocrystalline] + -1000.0 y[North East Region,Monocrystalline], RHS: 0.0\n",
      "Constraint: install_North East Region_Polycrystalline, Expression: x[North East Region,Polycrystalline] + -1000.0 y[North East Region,Polycrystalline], RHS: 0.0\n",
      "Constraint: install_North East Region_Thin-film, Expression: x[North East Region,Thin-film] + -1000.0 y[North East Region,Thin-film], RHS: 0.0\n",
      "Constraint: demand_North Region, Expression: 60.0 x[North Region,Monocrystalline] + 52.0 x[North Region,Polycrystalline] + 28.000000000000004 x[North Region,Thin-film], RHS: 23482.0\n",
      "Constraint: space_North Region, Expression: 1.393545 x[North Region,Monocrystalline] + 1.393545 x[North Region,Polycrystalline] + 1.393545 x[North Region,Thin-film], RHS: 2559.5\n",
      "Constraint: install_North Region_Monocrystalline, Expression: x[North Region,Monocrystalline] + -1000.0 y[North Region,Monocrystalline], RHS: 0.0\n",
      "Constraint: install_North Region_Polycrystalline, Expression: x[North Region,Polycrystalline] + -1000.0 y[North Region,Polycrystalline], RHS: 0.0\n",
      "Constraint: install_North Region_Thin-film, Expression: x[North Region,Thin-film] + -1000.0 y[North Region,Thin-film], RHS: 0.0\n",
      "Constraint: demand_West Region, Expression: 60.0 x[West Region,Monocrystalline] + 52.0 x[West Region,Polycrystalline] + 28.000000000000004 x[West Region,Thin-film], RHS: 19945.699999999997\n",
      "Constraint: space_West Region, Expression: 1.393545 x[West Region,Monocrystalline] + 1.393545 x[West Region,Polycrystalline] + 1.393545 x[West Region,Thin-film], RHS: 2559.5\n",
      "Constraint: install_West Region_Monocrystalline, Expression: x[West Region,Monocrystalline] + -1000.0 y[West Region,Monocrystalline], RHS: 0.0\n",
      "Constraint: install_West Region_Polycrystalline, Expression: x[West Region,Polycrystalline] + -1000.0 y[West Region,Polycrystalline], RHS: 0.0\n",
      "Constraint: install_West Region_Thin-film, Expression: x[West Region,Thin-film] + -1000.0 y[West Region,Thin-film], RHS: 0.0\n",
      "Constraint: budget, Expression: 303.7575 x[Central Region,Monocrystalline] + 253.207 x[Central Region,Polycrystalline] + 202.303 x[Central Region,Thin-film] + 303.7575 x[East Region,Monocrystalline] + 253.207 x[East Region,Polycrystalline] + 202.303 x[East Region,Thin-film] + 303.7575 x[North East Region,Monocrystalline] + 253.207 x[North East Region,Polycrystalline] + 202.303 x[North East Region,Thin-film] + 303.7575 x[North Region,Monocrystalline] + 253.207 x[North Region,Polycrystalline] + 202.303 x[North Region,Thin-film] + 303.7575 x[West Region,Monocrystalline] + 253.207 x[West Region,Polycrystalline] + 202.303 x[West Region,Thin-film], RHS: 1000000.0\n"
     ]
    }
   ],
   "source": [
    "for constr in model.getConstrs():\n",
    "    print(f\"Constraint: {constr.ConstrName}, Expression: {model.getRow(constr)}, RHS: {constr.RHS}\")"
   ]
  }
 ],
 "metadata": {
  "kernelspec": {
   "display_name": "Python 3",
   "language": "python",
   "name": "python3"
  },
  "language_info": {
   "codemirror_mode": {
    "name": "ipython",
    "version": 3
   },
   "file_extension": ".py",
   "mimetype": "text/x-python",
   "name": "python",
   "nbconvert_exporter": "python",
   "pygments_lexer": "ipython3",
   "version": "3.9.10"
  }
 },
 "nbformat": 4,
 "nbformat_minor": 2
}
