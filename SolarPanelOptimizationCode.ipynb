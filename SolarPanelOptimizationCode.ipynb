{
 "cells": [
  {
   "cell_type": "code",
   "execution_count": 164,
   "metadata": {},
   "outputs": [],
   "source": [
    "import gurobipy as gp\n",
    "from gurobipy import GRB\n",
    "import pandas as pd\n",
    "import numpy as np"
   ]
  },
  {
   "cell_type": "code",
   "execution_count": 165,
   "metadata": {},
   "outputs": [
    {
     "data": {
      "text/plain": [
       "{'Central Region': 88877.8,\n",
       " 'East Region': 27358.199999999997,\n",
       " 'North East Region': 23995.5,\n",
       " 'North Region': 23482.0,\n",
       " 'West Region': 19945.699999999997}"
      ]
     },
     "execution_count": 165,
     "metadata": {},
     "output_type": "execute_result"
    }
   ],
   "source": [
    "# Load the Excel file\n",
    "file_name = \"SES_2024_tidy.xlsx.coredownload.xlsx\"\n",
    "sheet_name = \"T3.5\"\n",
    "\n",
    "# Read the data from the Excel file\n",
    "df = pd.read_excel(file_name, sheet_name=sheet_name)\n",
    "df = df.fillna(0)\n",
    "\n",
    "# Treat the random 's' as 0\n",
    "df['Kwh_Per_Acc_Cleaned'] = df['Kwh Per Acc'].apply(lambda x: 0 if isinstance(x, str) and 's' in x else x) \n",
    "\n",
    "# Filter the data for the year 2024 and 'Dwelling Type' as 'overall'\n",
    "filtered_data = df[(df['Year'] == 2024) & (df['Dwelling Type'] == 'Overall')]\n",
    "\n",
    "# Calculate total consumption per region\n",
    "regions = ['Central Region', 'East Region', 'North East Region', 'North Region', 'West Region']\n",
    "demand_kW_per_region = {\n",
    "    region: filtered_data[filtered_data['Region'] == region]['Kwh_Per_Acc_Cleaned'].astype(float).sum()\n",
    "    for region in regions\n",
    "}\n",
    "\n",
    "demand_kW_per_region"
   ]
  },
  {
   "cell_type": "code",
   "execution_count": 166,
   "metadata": {},
   "outputs": [
    {
     "data": {
      "text/plain": [
       "{'Central Region': 541,\n",
       " 'East Region': 400,\n",
       " 'North East Region': 493,\n",
       " 'North Region': 303,\n",
       " 'West Region': 506}"
      ]
     },
     "execution_count": 166,
     "metadata": {},
     "output_type": "execute_result"
    }
   ],
   "source": [
    "df_carpark = pd.read_csv('Checkmark2.csv')\n",
    "\n",
    "# Calculate the number of car parks per region\n",
    "carpark_per_region = {\n",
    "    region: df_carpark[df_carpark['region'] == region].shape[0]\n",
    "    for region in regions\n",
    "}\n",
    "\n",
    "# Output the result\n",
    "carpark_per_region"
   ]
  },
  {
   "cell_type": "code",
   "execution_count": 167,
   "metadata": {},
   "outputs": [
    {
     "data": {
      "text/plain": [
       "{'Central Region': 1384689.5,\n",
       " 'East Region': 1023800.0,\n",
       " 'North East Region': 1261833.5,\n",
       " 'North Region': 775528.5,\n",
       " 'West Region': 1295107.0}"
      ]
     },
     "execution_count": 167,
     "metadata": {},
     "output_type": "execute_result"
    }
   ],
   "source": [
    "# Define other parameters\n",
    "types_of_panels = ['Monocrystalline', 'Polycrystalline', 'Thin-film']\n",
    "efficiency = {'Monocrystalline': 0.15, 'Polycrystalline': 0.13, 'Thin-film': 0.07}\n",
    "var_cost = {'Monocrystalline': 266.125, 'Polycrystalline': 265.85, 'Thin-film': 265.5}\n",
    "fixed_cost = 39457.75\n",
    "available_space_m2 = 2559.5\n",
    "budget_limit = 1_000_000_000 # Budget limit in dollars\n",
    "\n",
    "# Calculate the total area by region constraint\n",
    "area_by_region_constraint = {\n",
    "    region: carpark_per_region[region] * available_space_m2\n",
    "    for region in carpark_per_region\n",
    "}\n",
    "\n",
    "area_by_region_constraint"
   ]
  },
  {
   "cell_type": "code",
   "execution_count": 168,
   "metadata": {},
   "outputs": [],
   "source": [
    "# Create a new model\n",
    "model = gp.Model(\"solar_optimization\")\n",
    "\n",
    "# Decision variables\n",
    "x = model.addVars(regions, types_of_panels, vtype=GRB.INTEGER, name=\"x\")\n",
    "y = model.addVars(regions, vtype=GRB.BINARY, name=\"y\")"
   ]
  },
  {
   "cell_type": "code",
   "execution_count": 169,
   "metadata": {},
   "outputs": [],
   "source": [
    "model.setObjective(\n",
    "    gp.quicksum(fixed_cost * y[region] + gp.quicksum(var_cost[panel] * x[region, panel] for panel in types_of_panels) for region in regions),\n",
    "    GRB.MINIMIZE\n",
    ")"
   ]
  },
  {
   "cell_type": "markdown",
   "metadata": {},
   "source": [
    "<h3>Can budget by maximum number of panels you want to build if you do this way it's 1000 in the last line</h3>"
   ]
  },
  {
   "cell_type": "code",
   "execution_count": 170,
   "metadata": {},
   "outputs": [],
   "source": [
    "# # Constraints\n",
    "# for i in regions:\n",
    "#     # Demand constraint with maximum power per panel\n",
    "#     model.addConstr(\n",
    "#         gp.quicksum(efficiency[j] * max_power_per_panel_kW * x[i, j] for j in types_of_panels) >= demand_kW_per_region[i],\n",
    "#         name=f\"demand_{i}\"\n",
    "#     )\n",
    "\n",
    "#     # Space constraint\n",
    "#     model.addConstr(\n",
    "#         gp.quicksum(x[i, j] * panel_area_m2 for j in types_of_panels) <= available_space_m2,\n",
    "#         name=f\"space_{i}\"\n",
    "#     )\n",
    "\n",
    "#     # Installation constraints\n",
    "#     for j in types_of_panels:\n",
    "#         model.addConstr(x[i, j] <= 1000 * y[i, j], name=f\"install_{i}_{j}\")"
   ]
  },
  {
   "cell_type": "markdown",
   "metadata": {},
   "source": [
    "<h3>Or if you do this way then you budget by the money set in the cell above. For now I put $1 mil</h3>"
   ]
  },
  {
   "cell_type": "code",
   "execution_count": 171,
   "metadata": {},
   "outputs": [
    {
     "name": "stdout",
     "output_type": "stream",
     "text": [
      "Gurobi Optimizer version 11.0.3 build v11.0.3rc0 (win64 - Windows 11.0 (22631.2))\n",
      "\n",
      "CPU model: AMD Ryzen 7 5825U with Radeon Graphics, instruction set [SSE2|AVX|AVX2]\n",
      "Thread count: 8 physical cores, 16 logical processors, using up to 16 threads\n",
      "\n",
      "Optimize a model with 45 rows, 20 columns and 95 nonzeros\n",
      "Model fingerprint: 0x80092a58\n",
      "Variable types: 0 continuous, 20 integer (5 binary)\n",
      "Coefficient statistics:\n",
      "  Matrix range     [7e-02, 1e+100]\n",
      "  Objective range  [3e+02, 4e+04]\n",
      "  Bounds range     [1e+00, 1e+00]\n",
      "  RHS range        [2e+04, 1e+09]\n",
      "Warning: Model contains large matrix coefficient range\n",
      "         Consider reformulating model or setting NumericFocus parameter\n",
      "         to avoid numerical issues.\n",
      "Presolve removed 43 rows and 17 columns\n",
      "Presolve time: 0.01s\n",
      "Presolved: 2 rows, 3 columns, 6 nonzeros\n",
      "Variable types: 0 continuous, 3 integer (0 binary)\n",
      "Found heuristic solution: objective 5.054564e+08\n",
      "Found heuristic solution: objective 5.054561e+08\n",
      "Found heuristic solution: objective 3.501108e+08\n",
      "Found heuristic solution: objective 3.260397e+08\n",
      "\n",
      "Root relaxation: interrupted, 0 iterations, 0.00 seconds (0.00 work units)\n",
      "\n",
      "Explored 1 nodes (0 simplex iterations) in 0.03 seconds (0.00 work units)\n",
      "Thread count was 16 (of 16 available processors)\n",
      "\n",
      "Solution count 4: 3.2604e+08 3.50111e+08 5.05456e+08 5.05456e+08 \n",
      "\n",
      "Optimal solution found (tolerance 1.00e-04)\n",
      "Best objective 3.260396720500e+08, best bound 3.260396107000e+08, gap 0.0000%\n",
      "y[Central Region] = 1.0\n",
      "x[Central Region,Monocrystalline] = 592518.0\n",
      "x[Central Region,Polycrystalline] = 1.0\n",
      "x[Central Region,Thin-film] = -0.0\n",
      "y[East Region] = 1.0\n",
      "x[East Region,Monocrystalline] = 182388.0\n",
      "x[East Region,Polycrystalline] = -0.0\n",
      "x[East Region,Thin-film] = -0.0\n",
      "y[North East Region] = 1.0\n",
      "x[North East Region,Monocrystalline] = 159970.0\n",
      "x[North East Region,Polycrystalline] = -0.0\n",
      "x[North East Region,Thin-film] = -0.0\n",
      "y[North Region] = 1.0\n",
      "x[North Region,Monocrystalline] = 156545.0\n",
      "x[North Region,Polycrystalline] = 2.0\n",
      "x[North Region,Thin-film] = 0.0\n",
      "y[West Region] = 1.0\n",
      "x[West Region,Monocrystalline] = 132967.0\n",
      "x[West Region,Polycrystalline] = 5.0\n",
      "x[West Region,Thin-film] = -0.0\n"
     ]
    }
   ],
   "source": [
    "# Add constraints\n",
    "for region in regions:\n",
    "    model.addConstr(gp.quicksum(efficiency[panel] * x[region, panel] for panel in types_of_panels) >= demand_kW_per_region[region], f\"Demand_Constraint_{region}\")\n",
    "    model.addConstr(gp.quicksum(x[region, panel] for panel in types_of_panels) <= area_by_region_constraint[region], f\"Space_Constraint_{region}\")\n",
    "    model.addConstr(fixed_cost * y[region] + gp.quicksum(var_cost[panel] * x[region, panel] for panel in types_of_panels) <= budget_limit, f\"Budget_Constraint_{region}\")\n",
    "    for panel in types_of_panels:\n",
    "        model.addConstr(x[region, panel] <= GRB.INFINITY * y[region], f\"Big_M_Constraint_{region}_{panel}\")\n",
    "        model.addConstr(x[region, panel] >= 0, f\"Non-Negativity_{region}_{panel}\")\n",
    "        \n",
    "\n",
    "# Optimize the model\n",
    "model.optimize()\n",
    "\n",
    "# Print the results\n",
    "if model.status == GRB.OPTIMAL:\n",
    "    for region in regions:\n",
    "        print(f\"y[{region}] = {y[region].X}\")\n",
    "        for panel in types_of_panels:\n",
    "            print(f\"x[{region},{panel}] = {x[region,panel].X}\")\n",
    "else:\n",
    "    print(\"No optimal solution found.\")"
   ]
  },
  {
   "cell_type": "code",
   "execution_count": 172,
   "metadata": {},
   "outputs": [
    {
     "name": "stdout",
     "output_type": "stream",
     "text": [
      "Set parameter LogFile to value \"gurobi_log.txt\"\n",
      "Gurobi Optimizer version 11.0.3 build v11.0.3rc0 (win64 - Windows 11.0 (22631.2))\n",
      "\n",
      "CPU model: AMD Ryzen 7 5825U with Radeon Graphics, instruction set [SSE2|AVX|AVX2]\n",
      "Thread count: 8 physical cores, 16 logical processors, using up to 16 threads\n",
      "\n",
      "Optimize a model with 45 rows, 20 columns and 95 nonzeros\n",
      "Model fingerprint: 0x80092a58\n",
      "Variable types: 0 continuous, 20 integer (5 binary)\n",
      "Coefficient statistics:\n",
      "  Matrix range     [7e-02, 1e+100]\n",
      "  Objective range  [3e+02, 4e+04]\n",
      "  Bounds range     [1e+00, 1e+00]\n",
      "  RHS range        [2e+04, 1e+09]\n",
      "Warning: Model contains large matrix coefficient range\n",
      "         Consider reformulating model or setting NumericFocus parameter\n",
      "         to avoid numerical issues.\n",
      "Presolved: 2 rows, 3 columns, 6 nonzeros\n",
      "\n",
      "Continuing optimization...\n",
      "\n",
      "\n",
      "Explored 1 nodes (0 simplex iterations) in 0.01 seconds (0.00 work units)\n",
      "Thread count was 16 (of 16 available processors)\n",
      "\n",
      "Solution count 4: 3.2604e+08 3.50111e+08 5.05456e+08 5.05456e+08 \n",
      "\n",
      "Optimal solution found (tolerance 1.00e-04)\n",
      "Best objective 3.260396720500e+08, best bound 3.260396107000e+08, gap 0.0000%\n"
     ]
    }
   ],
   "source": [
    "# Set the txt file to see the logs\n",
    "model.setParam('LogFile', 'gurobi_log.txt')\n",
    "model.setParam('OutputFlag', 1) \n",
    "\n",
    "# Optimize the model\n",
    "model.optimize()\n",
    "\n",
    "# In case we mess up and we wanna see the variables \n",
    "if model.status == GRB.INFEASIBLE:\n",
    "    model.computeIIS()\n",
    "    model.write(\"model.ilp\")"
   ]
  },
  {
   "cell_type": "code",
   "execution_count": 173,
   "metadata": {},
   "outputs": [
    {
     "name": "stdout",
     "output_type": "stream",
     "text": [
      "Optimal solution found:\n",
      "Region: Central Region, Monocrystalline: 592518.0 panels, Build: 1.0\n",
      "Region: Central Region, Polycrystalline: 1.0 panels, Build: 1.0\n",
      "Region: Central Region, Thin-film: -0.0 panels, Build: 1.0\n",
      "Region: East Region, Monocrystalline: 182388.0 panels, Build: 1.0\n",
      "Region: East Region, Polycrystalline: -0.0 panels, Build: 1.0\n",
      "Region: East Region, Thin-film: -0.0 panels, Build: 1.0\n",
      "Region: North East Region, Monocrystalline: 159970.0 panels, Build: 1.0\n",
      "Region: North East Region, Polycrystalline: -0.0 panels, Build: 1.0\n",
      "Region: North East Region, Thin-film: -0.0 panels, Build: 1.0\n",
      "Region: North Region, Monocrystalline: 156545.0 panels, Build: 1.0\n",
      "Region: North Region, Polycrystalline: 2.0 panels, Build: 1.0\n",
      "Region: North Region, Thin-film: 0.0 panels, Build: 1.0\n",
      "Region: West Region, Monocrystalline: 132967.0 panels, Build: 1.0\n",
      "Region: West Region, Polycrystalline: 5.0 panels, Build: 1.0\n",
      "Region: West Region, Thin-film: -0.0 panels, Build: 1.0\n",
      "Total Cost: $326039672.04999995\n"
     ]
    }
   ],
   "source": [
    "# Print the results\n",
    "if model.status == GRB.OPTIMAL:\n",
    "    print(\"Optimal solution found:\")\n",
    "    for i in regions:\n",
    "        for j in types_of_panels:\n",
    "            print(f\"Region: {i}, {j}: {x[i, j].x} panels, Build: {y[i].x}\")\n",
    "    print(f\"Total Cost: ${model.objVal}\")\n",
    "else:\n",
    "    print(\"No optimal solution found.\")"
   ]
  },
  {
   "cell_type": "code",
   "execution_count": 174,
   "metadata": {},
   "outputs": [
    {
     "name": "stdout",
     "output_type": "stream",
     "text": [
      "Constraint: Demand_Constraint_Central Region, Expression: 0.15 x[Central Region,Monocrystalline] + 0.13 x[Central Region,Polycrystalline] + 0.07 x[Central Region,Thin-film], RHS: 88877.8\n",
      "Constraint: Space_Constraint_Central Region, Expression: x[Central Region,Monocrystalline] + x[Central Region,Polycrystalline] + x[Central Region,Thin-film], RHS: 1384689.5\n",
      "Constraint: Budget_Constraint_Central Region, Expression: 266.125 x[Central Region,Monocrystalline] + 265.85 x[Central Region,Polycrystalline] + 265.5 x[Central Region,Thin-film] + 39457.75 y[Central Region], RHS: 1000000000.0\n",
      "Constraint: Big_M_Constraint_Central Region_Monocrystalline, Expression: x[Central Region,Monocrystalline] + -1e+100 y[Central Region], RHS: 0.0\n",
      "Constraint: Non-Negativity_Central Region_Monocrystalline, Expression: x[Central Region,Monocrystalline], RHS: 0.0\n",
      "Constraint: Big_M_Constraint_Central Region_Polycrystalline, Expression: x[Central Region,Polycrystalline] + -1e+100 y[Central Region], RHS: 0.0\n",
      "Constraint: Non-Negativity_Central Region_Polycrystalline, Expression: x[Central Region,Polycrystalline], RHS: 0.0\n",
      "Constraint: Big_M_Constraint_Central Region_Thin-film, Expression: x[Central Region,Thin-film] + -1e+100 y[Central Region], RHS: 0.0\n",
      "Constraint: Non-Negativity_Central Region_Thin-film, Expression: x[Central Region,Thin-film], RHS: 0.0\n",
      "Constraint: Demand_Constraint_East Region, Expression: 0.15 x[East Region,Monocrystalline] + 0.13 x[East Region,Polycrystalline] + 0.07 x[East Region,Thin-film], RHS: 27358.199999999997\n",
      "Constraint: Space_Constraint_East Region, Expression: x[East Region,Monocrystalline] + x[East Region,Polycrystalline] + x[East Region,Thin-film], RHS: 1023800.0\n",
      "Constraint: Budget_Constraint_East Region, Expression: 266.125 x[East Region,Monocrystalline] + 265.85 x[East Region,Polycrystalline] + 265.5 x[East Region,Thin-film] + 39457.75 y[East Region], RHS: 1000000000.0\n",
      "Constraint: Big_M_Constraint_East Region_Monocrystalline, Expression: x[East Region,Monocrystalline] + -1e+100 y[East Region], RHS: 0.0\n",
      "Constraint: Non-Negativity_East Region_Monocrystalline, Expression: x[East Region,Monocrystalline], RHS: 0.0\n",
      "Constraint: Big_M_Constraint_East Region_Polycrystalline, Expression: x[East Region,Polycrystalline] + -1e+100 y[East Region], RHS: 0.0\n",
      "Constraint: Non-Negativity_East Region_Polycrystalline, Expression: x[East Region,Polycrystalline], RHS: 0.0\n",
      "Constraint: Big_M_Constraint_East Region_Thin-film, Expression: x[East Region,Thin-film] + -1e+100 y[East Region], RHS: 0.0\n",
      "Constraint: Non-Negativity_East Region_Thin-film, Expression: x[East Region,Thin-film], RHS: 0.0\n",
      "Constraint: Demand_Constraint_North East Region, Expression: 0.15 x[North East Region,Monocrystalline] + 0.13 x[North East Region,Polycrystalline] + 0.07 x[North East Region,Thin-film], RHS: 23995.5\n",
      "Constraint: Space_Constraint_North East Region, Expression: x[North East Region,Monocrystalline] + x[North East Region,Polycrystalline] + x[North East Region,Thin-film], RHS: 1261833.5\n",
      "Constraint: Budget_Constraint_North East Region, Expression: 266.125 x[North East Region,Monocrystalline] + 265.85 x[North East Region,Polycrystalline] + 265.5 x[North East Region,Thin-film] + 39457.75 y[North East Region], RHS: 1000000000.0\n",
      "Constraint: Big_M_Constraint_North East Region_Monocrystalline, Expression: x[North East Region,Monocrystalline] + -1e+100 y[North East Region], RHS: 0.0\n",
      "Constraint: Non-Negativity_North East Region_Monocrystalline, Expression: x[North East Region,Monocrystalline], RHS: 0.0\n",
      "Constraint: Big_M_Constraint_North East Region_Polycrystalline, Expression: x[North East Region,Polycrystalline] + -1e+100 y[North East Region], RHS: 0.0\n",
      "Constraint: Non-Negativity_North East Region_Polycrystalline, Expression: x[North East Region,Polycrystalline], RHS: 0.0\n",
      "Constraint: Big_M_Constraint_North East Region_Thin-film, Expression: x[North East Region,Thin-film] + -1e+100 y[North East Region], RHS: 0.0\n",
      "Constraint: Non-Negativity_North East Region_Thin-film, Expression: x[North East Region,Thin-film], RHS: 0.0\n",
      "Constraint: Demand_Constraint_North Region, Expression: 0.15 x[North Region,Monocrystalline] + 0.13 x[North Region,Polycrystalline] + 0.07 x[North Region,Thin-film], RHS: 23482.0\n",
      "Constraint: Space_Constraint_North Region, Expression: x[North Region,Monocrystalline] + x[North Region,Polycrystalline] + x[North Region,Thin-film], RHS: 775528.5\n",
      "Constraint: Budget_Constraint_North Region, Expression: 266.125 x[North Region,Monocrystalline] + 265.85 x[North Region,Polycrystalline] + 265.5 x[North Region,Thin-film] + 39457.75 y[North Region], RHS: 1000000000.0\n",
      "Constraint: Big_M_Constraint_North Region_Monocrystalline, Expression: x[North Region,Monocrystalline] + -1e+100 y[North Region], RHS: 0.0\n",
      "Constraint: Non-Negativity_North Region_Monocrystalline, Expression: x[North Region,Monocrystalline], RHS: 0.0\n",
      "Constraint: Big_M_Constraint_North Region_Polycrystalline, Expression: x[North Region,Polycrystalline] + -1e+100 y[North Region], RHS: 0.0\n",
      "Constraint: Non-Negativity_North Region_Polycrystalline, Expression: x[North Region,Polycrystalline], RHS: 0.0\n",
      "Constraint: Big_M_Constraint_North Region_Thin-film, Expression: x[North Region,Thin-film] + -1e+100 y[North Region], RHS: 0.0\n",
      "Constraint: Non-Negativity_North Region_Thin-film, Expression: x[North Region,Thin-film], RHS: 0.0\n",
      "Constraint: Demand_Constraint_West Region, Expression: 0.15 x[West Region,Monocrystalline] + 0.13 x[West Region,Polycrystalline] + 0.07 x[West Region,Thin-film], RHS: 19945.699999999997\n",
      "Constraint: Space_Constraint_West Region, Expression: x[West Region,Monocrystalline] + x[West Region,Polycrystalline] + x[West Region,Thin-film], RHS: 1295107.0\n",
      "Constraint: Budget_Constraint_West Region, Expression: 266.125 x[West Region,Monocrystalline] + 265.85 x[West Region,Polycrystalline] + 265.5 x[West Region,Thin-film] + 39457.75 y[West Region], RHS: 1000000000.0\n",
      "Constraint: Big_M_Constraint_West Region_Monocrystalline, Expression: x[West Region,Monocrystalline] + -1e+100 y[West Region], RHS: 0.0\n",
      "Constraint: Non-Negativity_West Region_Monocrystalline, Expression: x[West Region,Monocrystalline], RHS: 0.0\n",
      "Constraint: Big_M_Constraint_West Region_Polycrystalline, Expression: x[West Region,Polycrystalline] + -1e+100 y[West Region], RHS: 0.0\n",
      "Constraint: Non-Negativity_West Region_Polycrystalline, Expression: x[West Region,Polycrystalline], RHS: 0.0\n",
      "Constraint: Big_M_Constraint_West Region_Thin-film, Expression: x[West Region,Thin-film] + -1e+100 y[West Region], RHS: 0.0\n",
      "Constraint: Non-Negativity_West Region_Thin-film, Expression: x[West Region,Thin-film], RHS: 0.0\n"
     ]
    }
   ],
   "source": [
    "for constr in model.getConstrs():\n",
    "    print(f\"Constraint: {constr.ConstrName}, Expression: {model.getRow(constr)}, RHS: {constr.RHS}\")"
   ]
  },
  {
   "cell_type": "code",
   "execution_count": 175,
   "metadata": {},
   "outputs": [
    {
     "name": "stdout",
     "output_type": "stream",
     "text": [
      "Optimal solution found.\n"
     ]
    }
   ],
   "source": [
    "# Check if the model is infeasible\n",
    "if model.status == GRB.INFEASIBLE:\n",
    "    # Compute the IIS\n",
    "    model.computeIIS()\n",
    "    \n",
    "    # Print the constraints in the IIS\n",
    "    print(\"Constraints in the IIS:\")\n",
    "    for constr in model.getConstrs():\n",
    "        if constr.IISConstr:\n",
    "            print(constr.ConstrName)\n",
    "    \n",
    "    # Print the variable bounds in the IIS\n",
    "    print(\"Variable bounds in the IIS:\")\n",
    "    for var in model.getVars():\n",
    "        if var.IISLB:\n",
    "            print(f\"{var.VarName} (lower bound)\")\n",
    "        if var.IISUB:\n",
    "            print(f\"{var.VarName} (upper bound)\")\n",
    "else:\n",
    "    print(\"Optimal solution found.\")"
   ]
  }
 ],
 "metadata": {
  "kernelspec": {
   "display_name": "Python 3",
   "language": "python",
   "name": "python3"
  },
  "language_info": {
   "codemirror_mode": {
    "name": "ipython",
    "version": 3
   },
   "file_extension": ".py",
   "mimetype": "text/x-python",
   "name": "python",
   "nbconvert_exporter": "python",
   "pygments_lexer": "ipython3",
   "version": "3.9.10"
  }
 },
 "nbformat": 4,
 "nbformat_minor": 2
}
