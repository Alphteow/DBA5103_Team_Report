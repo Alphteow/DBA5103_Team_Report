{
 "cells": [
  {
   "cell_type": "code",
   "execution_count": 59,
   "metadata": {},
   "outputs": [],
   "source": [
    "import gurobipy as gp\n",
    "from gurobipy import GRB\n",
    "import pandas as pd"
   ]
  },
  {
   "cell_type": "code",
   "execution_count": 60,
   "metadata": {},
   "outputs": [
    {
     "data": {
      "text/plain": [
       "{'Central Region': 88877.8,\n",
       " 'East Region': 27358.199999999997,\n",
       " 'North East Region': 23995.5,\n",
       " 'North Region': 23482.0,\n",
       " 'West Region': 19945.699999999997}"
      ]
     },
     "execution_count": 60,
     "metadata": {},
     "output_type": "execute_result"
    }
   ],
   "source": [
    "# Load the Excel file\n",
    "file_name = \"SES_2024_tidy.xlsx.coredownload.xlsx\"\n",
    "sheet_name = \"T3.5\"\n",
    "\n",
    "# Read the data from the Excel file\n",
    "df = pd.read_excel(file_name, sheet_name=sheet_name)\n",
    "df = df.fillna(0)\n",
    "\n",
    "# Treat the random 's' as 0\n",
    "df['Kwh_Per_Acc_Cleaned'] = df['Kwh Per Acc'].apply(lambda x: 0 if isinstance(x, str) and 's' in x else x) \n",
    "\n",
    "# Filter the data for the year 2024 and 'Dwelling Type' as 'overall'\n",
    "filtered_data = df[(df['Year'] == 2024) & (df['Dwelling Type'] == 'Overall')]\n",
    "\n",
    "# Calculate total consumption per region\n",
    "regions = ['Central Region', 'East Region', 'North East Region', 'North Region', 'West Region']\n",
    "demand_kW_per_region = {\n",
    "    region: filtered_data[filtered_data['Region'] == region]['Kwh_Per_Acc_Cleaned'].astype(float).sum()\n",
    "    for region in regions\n",
    "}\n",
    "\n",
    "demand_kW_per_region"
   ]
  },
  {
   "cell_type": "code",
   "execution_count": 61,
   "metadata": {},
   "outputs": [
    {
     "data": {
      "text/plain": [
       "{'Central Region': 541,\n",
       " 'East Region': 400,\n",
       " 'North East Region': 493,\n",
       " 'North Region': 303,\n",
       " 'West Region': 506}"
      ]
     },
     "execution_count": 61,
     "metadata": {},
     "output_type": "execute_result"
    }
   ],
   "source": [
    "df_carpark = pd.read_csv('Checkmark2.csv')\n",
    "\n",
    "# Calculate the number of car parks per region\n",
    "carpark_per_region = {\n",
    "    region: df_carpark[df_carpark['region'] == region].shape[0]\n",
    "    for region in regions\n",
    "}\n",
    "\n",
    "# Output the result\n",
    "carpark_per_region"
   ]
  },
  {
   "cell_type": "code",
   "execution_count": 62,
   "metadata": {},
   "outputs": [
    {
     "data": {
      "text/plain": [
       "{'Central Region': 1384689.5,\n",
       " 'East Region': 1023800.0,\n",
       " 'North East Region': 1261833.5,\n",
       " 'North Region': 775528.5,\n",
       " 'West Region': 1295107.0}"
      ]
     },
     "execution_count": 62,
     "metadata": {},
     "output_type": "execute_result"
    }
   ],
   "source": [
    "# Define other parameters\n",
    "types_of_panels = ['Monocrystalline', 'Polycrystalline', 'Thin-film']\n",
    "efficiency = {'Monocrystalline': 0.15, 'Polycrystalline': 0.13, 'Thin-film': 0.07}\n",
    "var_cost = {'Monocrystalline': 266.125, 'Polycrystalline': 265.85, 'Thin-film': 265.5}\n",
    "fixed_cost = 39457.75\n",
    "available_space_m2 = 2559.5\n",
    "budget_limit = 1_000_000_000  # Budget limit in dollars\n",
    "\n",
    "# Calculate the total area by region constraint\n",
    "area_by_region_constraint = {\n",
    "    region: carpark_per_region[region] * available_space_m2\n",
    "    for region in carpark_per_region\n",
    "}\n",
    "\n",
    "area_by_region_constraint"
   ]
  },
  {
   "cell_type": "code",
   "execution_count": 63,
   "metadata": {},
   "outputs": [],
   "source": [
    "# Create a new model\n",
    "model = gp.Model(\"solar_optimization\")\n",
    "\n",
    "# Decision variables\n",
    "x = model.addVars(regions, types_of_panels, vtype=GRB.INTEGER, name=\"x\")\n",
    "y = model.addVars(regions, vtype=GRB.BINARY, name=\"y\")"
   ]
  },
  {
   "cell_type": "code",
   "execution_count": 64,
   "metadata": {},
   "outputs": [],
   "source": [
    "model.setObjective(\n",
    "    gp.quicksum(fixed_cost * y[region] + gp.quicksum(var_cost[panel] * x[region, panel] for panel in types_of_panels) for region in regions),\n",
    "    GRB.MINIMIZE\n",
    ")"
   ]
  },
  {
   "cell_type": "markdown",
   "metadata": {},
   "source": [
    "<h3>Can budget by maximum number of panels you want to build if you do this way it's 1000 in the last line</h3>"
   ]
  },
  {
   "cell_type": "code",
   "execution_count": 65,
   "metadata": {},
   "outputs": [],
   "source": [
    "# # Constraints\n",
    "# for i in regions:\n",
    "#     # Demand constraint with maximum power per panel\n",
    "#     model.addConstr(\n",
    "#         gp.quicksum(efficiency[j] * max_power_per_panel_kW * x[i, j] for j in types_of_panels) >= demand_kW_per_region[i],\n",
    "#         name=f\"demand_{i}\"\n",
    "#     )\n",
    "\n",
    "#     # Space constraint\n",
    "#     model.addConstr(\n",
    "#         gp.quicksum(x[i, j] * panel_area_m2 for j in types_of_panels) <= available_space_m2,\n",
    "#         name=f\"space_{i}\"\n",
    "#     )\n",
    "\n",
    "#     # Installation constraints\n",
    "#     for j in types_of_panels:\n",
    "#         model.addConstr(x[i, j] <= 1000 * y[i, j], name=f\"install_{i}_{j}\")"
   ]
  },
  {
   "cell_type": "markdown",
   "metadata": {},
   "source": [
    "<h3>Or if you do this way then you budget by the money set in the cell above. For now I put $1 mil</h3>"
   ]
  },
  {
   "cell_type": "code",
   "execution_count": 66,
   "metadata": {},
   "outputs": [
    {
     "name": "stdout",
     "output_type": "stream",
     "text": [
      "Gurobi Optimizer version 11.0.3 build v11.0.3rc0 (win64 - Windows 11.0 (22631.2))\n",
      "\n",
      "CPU model: AMD Ryzen 7 5825U with Radeon Graphics, instruction set [SSE2|AVX|AVX2]\n",
      "Thread count: 8 physical cores, 16 logical processors, using up to 16 threads\n",
      "\n",
      "Optimize a model with 15 rows, 20 columns and 50 nonzeros\n",
      "Model fingerprint: 0xb6e1d799\n",
      "Variable types: 0 continuous, 20 integer (5 binary)\n",
      "Coefficient statistics:\n",
      "  Matrix range     [7e-02, 4e+04]\n",
      "  Objective range  [3e+02, 4e+04]\n",
      "  Bounds range     [1e+00, 1e+00]\n",
      "  RHS range        [2e+04, 1e+09]\n",
      "Presolve removed 5 rows and 5 columns\n",
      "Presolve time: 0.00s\n",
      "\n",
      "Explored 0 nodes (0 simplex iterations) in 0.01 seconds (0.00 work units)\n",
      "Thread count was 1 (of 16 available processors)\n",
      "\n",
      "Solution count 0\n",
      "\n",
      "Model is infeasible\n",
      "Best objective -, best bound -, gap -\n",
      "No optimal solution found.\n"
     ]
    }
   ],
   "source": [
    "# Add constraints\n",
    "for region in regions:\n",
    "    model.addConstr(gp.quicksum(efficiency[panel] * x[region, panel] for panel in types_of_panels) >= demand_kW_per_region[region], f\"Demand_Constraint_{region}\")\n",
    "    model.addConstr(gp.quicksum(10*x[region, panel] for panel in types_of_panels) <= area_by_region_constraint[region], f\"Space_Constraint_{region}\")\n",
    "    model.addConstr(fixed_cost * y[region] + gp.quicksum(var_cost[panel] * x[region, panel] for panel in types_of_panels) <= budget_limit, f\"Budget_Constraint_{region}\")\n",
    "    # for panel in types_of_panels:\n",
    "    #     model.addConstr(x[region, panel] <= available_space_m2 * y[region], f\"Big_M_Constraint_{region}_{panel}\")\n",
    "\n",
    "# Optimize the model\n",
    "model.optimize()\n",
    "\n",
    "# Print the results\n",
    "if model.status == GRB.OPTIMAL:\n",
    "    for region in regions:\n",
    "        print(f\"y[{region}] = {y[region].X}\")\n",
    "        for panel in types_of_panels:\n",
    "            print(f\"x[{region},{panel}] = {x[region,panel].X}\")\n",
    "else:\n",
    "    print(\"No optimal solution found.\")"
   ]
  },
  {
   "cell_type": "code",
   "execution_count": 67,
   "metadata": {},
   "outputs": [
    {
     "name": "stdout",
     "output_type": "stream",
     "text": [
      "Set parameter LogFile to value \"gurobi_log.txt\"\n",
      "Gurobi Optimizer version 11.0.3 build v11.0.3rc0 (win64 - Windows 11.0 (22631.2))\n",
      "\n",
      "CPU model: AMD Ryzen 7 5825U with Radeon Graphics, instruction set [SSE2|AVX|AVX2]\n",
      "Thread count: 8 physical cores, 16 logical processors, using up to 16 threads\n",
      "\n",
      "Optimize a model with 15 rows, 20 columns and 50 nonzeros\n",
      "Model fingerprint: 0xb6e1d799\n",
      "Variable types: 0 continuous, 20 integer (5 binary)\n",
      "Coefficient statistics:\n",
      "  Matrix range     [7e-02, 4e+04]\n",
      "  Objective range  [3e+02, 4e+04]\n",
      "  Bounds range     [1e+00, 1e+00]\n",
      "  RHS range        [2e+04, 1e+09]\n",
      "Presolve removed 5 rows and 5 columns\n",
      "Presolve time: 0.00s\n",
      "\n",
      "Explored 0 nodes (0 simplex iterations) in 0.01 seconds (0.00 work units)\n",
      "Thread count was 1 (of 16 available processors)\n",
      "\n",
      "Solution count 0\n",
      "\n",
      "Model is infeasible\n",
      "Best objective -, best bound -, gap -\n",
      "Gurobi Optimizer version 11.0.3 build v11.0.3rc0 (win64 - Windows 11.0 (22631.2))\n",
      "\n",
      "CPU model: AMD Ryzen 7 5825U with Radeon Graphics, instruction set [SSE2|AVX|AVX2]\n",
      "Thread count: 8 physical cores, 16 logical processors, using up to 16 threads\n",
      "\n",
      "\n",
      "Computing Irreducible Inconsistent Subsystem (IIS)...\n",
      "\n",
      "           Constraints          |            Bounds           |  Runtime\n",
      "      Min       Max     Guess   |   Min       Max     Guess   |\n",
      "--------------------------------------------------------------------------\n",
      "        0        15         -         0        15         -           0s\n",
      "        2         2         2         2         2         2           0s\n",
      "\n",
      "IIS computed: 2 constraints, 2 bounds\n",
      "IIS runtime: 0.02 seconds (0.00 work units)\n"
     ]
    }
   ],
   "source": [
    "# Set the txt file to see the logs\n",
    "model.setParam('LogFile', 'gurobi_log.txt')\n",
    "model.setParam('OutputFlag', 1) \n",
    "\n",
    "# Optimize the model\n",
    "model.optimize()\n",
    "\n",
    "# In case we mess up and we wanna see the variables \n",
    "if model.status == GRB.INFEASIBLE:\n",
    "    model.computeIIS()\n",
    "    model.write(\"model.ilp\")"
   ]
  },
  {
   "cell_type": "code",
   "execution_count": 68,
   "metadata": {},
   "outputs": [
    {
     "name": "stdout",
     "output_type": "stream",
     "text": [
      "No optimal solution found.\n"
     ]
    }
   ],
   "source": [
    "# Print the results\n",
    "if model.status == GRB.OPTIMAL:\n",
    "    print(\"Optimal solution found:\")\n",
    "    for i in regions:\n",
    "        for j in types_of_panels:\n",
    "            print(f\"Region: {i}, {j}: {x[i, j].x} panels, Build: {y[i, j].x}\")\n",
    "    print(f\"Total Cost: ${model.objVal}\")\n",
    "else:\n",
    "    print(\"No optimal solution found.\")"
   ]
  },
  {
   "cell_type": "code",
   "execution_count": 69,
   "metadata": {},
   "outputs": [
    {
     "name": "stdout",
     "output_type": "stream",
     "text": [
      "Constraint: Demand_Constraint_Central Region, Expression: 0.15 x[Central Region,Monocrystalline] + 0.13 x[Central Region,Polycrystalline] + 0.07 x[Central Region,Thin-film], RHS: 88877.8\n",
      "Constraint: Space_Constraint_Central Region, Expression: 10.0 x[Central Region,Monocrystalline] + 10.0 x[Central Region,Polycrystalline] + 10.0 x[Central Region,Thin-film], RHS: 1384689.5\n",
      "Constraint: Budget_Constraint_Central Region, Expression: 266.125 x[Central Region,Monocrystalline] + 265.85 x[Central Region,Polycrystalline] + 265.5 x[Central Region,Thin-film] + 39457.75 y[Central Region], RHS: 1000000000.0\n",
      "Constraint: Demand_Constraint_East Region, Expression: 0.15 x[East Region,Monocrystalline] + 0.13 x[East Region,Polycrystalline] + 0.07 x[East Region,Thin-film], RHS: 27358.199999999997\n",
      "Constraint: Space_Constraint_East Region, Expression: 10.0 x[East Region,Monocrystalline] + 10.0 x[East Region,Polycrystalline] + 10.0 x[East Region,Thin-film], RHS: 1023800.0\n",
      "Constraint: Budget_Constraint_East Region, Expression: 266.125 x[East Region,Monocrystalline] + 265.85 x[East Region,Polycrystalline] + 265.5 x[East Region,Thin-film] + 39457.75 y[East Region], RHS: 1000000000.0\n",
      "Constraint: Demand_Constraint_North East Region, Expression: 0.15 x[North East Region,Monocrystalline] + 0.13 x[North East Region,Polycrystalline] + 0.07 x[North East Region,Thin-film], RHS: 23995.5\n",
      "Constraint: Space_Constraint_North East Region, Expression: 10.0 x[North East Region,Monocrystalline] + 10.0 x[North East Region,Polycrystalline] + 10.0 x[North East Region,Thin-film], RHS: 1261833.5\n",
      "Constraint: Budget_Constraint_North East Region, Expression: 266.125 x[North East Region,Monocrystalline] + 265.85 x[North East Region,Polycrystalline] + 265.5 x[North East Region,Thin-film] + 39457.75 y[North East Region], RHS: 1000000000.0\n",
      "Constraint: Demand_Constraint_North Region, Expression: 0.15 x[North Region,Monocrystalline] + 0.13 x[North Region,Polycrystalline] + 0.07 x[North Region,Thin-film], RHS: 23482.0\n",
      "Constraint: Space_Constraint_North Region, Expression: 10.0 x[North Region,Monocrystalline] + 10.0 x[North Region,Polycrystalline] + 10.0 x[North Region,Thin-film], RHS: 775528.5\n",
      "Constraint: Budget_Constraint_North Region, Expression: 266.125 x[North Region,Monocrystalline] + 265.85 x[North Region,Polycrystalline] + 265.5 x[North Region,Thin-film] + 39457.75 y[North Region], RHS: 1000000000.0\n",
      "Constraint: Demand_Constraint_West Region, Expression: 0.15 x[West Region,Monocrystalline] + 0.13 x[West Region,Polycrystalline] + 0.07 x[West Region,Thin-film], RHS: 19945.699999999997\n",
      "Constraint: Space_Constraint_West Region, Expression: 10.0 x[West Region,Monocrystalline] + 10.0 x[West Region,Polycrystalline] + 10.0 x[West Region,Thin-film], RHS: 1295107.0\n",
      "Constraint: Budget_Constraint_West Region, Expression: 266.125 x[West Region,Monocrystalline] + 265.85 x[West Region,Polycrystalline] + 265.5 x[West Region,Thin-film] + 39457.75 y[West Region], RHS: 1000000000.0\n"
     ]
    }
   ],
   "source": [
    "for constr in model.getConstrs():\n",
    "    print(f\"Constraint: {constr.ConstrName}, Expression: {model.getRow(constr)}, RHS: {constr.RHS}\")"
   ]
  }
 ],
 "metadata": {
  "kernelspec": {
   "display_name": "Python 3",
   "language": "python",
   "name": "python3"
  },
  "language_info": {
   "codemirror_mode": {
    "name": "ipython",
    "version": 3
   },
   "file_extension": ".py",
   "mimetype": "text/x-python",
   "name": "python",
   "nbconvert_exporter": "python",
   "pygments_lexer": "ipython3",
   "version": "3.9.10"
  }
 },
 "nbformat": 4,
 "nbformat_minor": 2
}
