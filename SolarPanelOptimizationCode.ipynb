{
 "cells": [
  {
   "cell_type": "code",
   "execution_count": 1,
   "metadata": {},
   "outputs": [],
   "source": [
    "import gurobipy as gp\n",
    "from gurobipy import GRB"
   ]
  },
  {
   "cell_type": "code",
   "execution_count": 2,
   "metadata": {},
   "outputs": [],
   "source": [
    "# Define basic parameters\n",
    "types_of_panels = ['Monocrystalline', 'Polycrystalline', 'Thin-film']\n",
    "efficiency = {'Monocrystalline': 0.15, 'Polycrystalline': 0.13, 'Thin-film': 0.07}  # Lower end of efficiency\n",
    "fixed_cost = {'Monocrystalline': 0.75, 'Polycrystalline': 0.70, 'Thin-film': 0.30}  # Lower end of cost per kW\n",
    "install_cost = {'Monocrystalline': 300, 'Polycrystalline': 250, 'Thin-film': 200}  # Example installation costs\n",
    "maintenance_cost_percentage = 0.01  # 1% for large systems\n",
    "panel_area_ft2 = 15  # Area in ft²\n",
    "panel_area_m2 = panel_area_ft2 * 0.092903  # Convert to m²"
   ]
  },
  {
   "cell_type": "code",
   "execution_count": 3,
   "metadata": {},
   "outputs": [],
   "source": [
    "available_space_m2 = 2559.5\n",
    "demand_kW = 1000  # Example demand"
   ]
  },
  {
   "cell_type": "code",
   "execution_count": 4,
   "metadata": {},
   "outputs": [
    {
     "name": "stdout",
     "output_type": "stream",
     "text": [
      "Set parameter Username\n",
      "Academic license - for non-commercial use only - expires 2025-08-22\n"
     ]
    }
   ],
   "source": [
    "# Create a new model\n",
    "model = gp.Model(\"solar_optimization\")\n",
    "\n",
    "# Decision variables\n",
    "x = model.addVars(types_of_panels, vtype=GRB.INTEGER, name=\"x\")\n",
    "y = model.addVars(types_of_panels, vtype=GRB.BINARY, name=\"y\")"
   ]
  },
  {
   "cell_type": "code",
   "execution_count": 5,
   "metadata": {},
   "outputs": [
    {
     "name": "stdout",
     "output_type": "stream",
     "text": [
      "Gurobi Optimizer version 11.0.3 build v11.0.3rc0 (win64 - Windows 11.0 (22631.2))\n",
      "\n",
      "CPU model: AMD Ryzen 7 5825U with Radeon Graphics, instruction set [SSE2|AVX|AVX2]\n",
      "Thread count: 8 physical cores, 16 logical processors, using up to 16 threads\n",
      "\n",
      "Optimize a model with 5 rows, 6 columns and 12 nonzeros\n",
      "Model fingerprint: 0x7792be93\n",
      "Variable types: 0 continuous, 6 integer (3 binary)\n",
      "Coefficient statistics:\n",
      "  Matrix range     [1e-01, 1e+03]\n",
      "  Objective range  [2e+02, 3e+02]\n",
      "  Bounds range     [1e+00, 1e+00]\n",
      "  RHS range        [1e+03, 3e+03]\n",
      "Presolve removed 3 rows and 3 columns\n",
      "Presolve time: 0.00s\n",
      "\n",
      "Explored 0 nodes (0 simplex iterations) in 0.01 seconds (0.00 work units)\n",
      "Thread count was 1 (of 16 available processors)\n",
      "\n",
      "Solution count 0\n",
      "\n",
      "Model is infeasible\n",
      "Best objective -, best bound -, gap -\n"
     ]
    }
   ],
   "source": [
    "# Objective function: Minimize total cost\n",
    "model.setObjective(\n",
    "    gp.quicksum(\n",
    "        (fixed_cost[j] + install_cost[j] + maintenance_cost_percentage * (fixed_cost[j] + install_cost[j])) * x[j]\n",
    "        for j in types_of_panels\n",
    "    ),\n",
    "    GRB.MINIMIZE\n",
    ")\n",
    "\n",
    "# Constraints\n",
    "# Demand constraint: Total generated power must meet demand\n",
    "model.addConstr(\n",
    "    gp.quicksum(efficiency[j] * x[j] * panel_area_m2 for j in types_of_panels) >= demand_kW,\n",
    "    name=\"demand\"\n",
    ")\n",
    "\n",
    "# Space constraint: Total used space must not exceed available space\n",
    "model.addConstr(\n",
    "    gp.quicksum(x[j] * panel_area_m2 for j in types_of_panels) <= available_space_m2,\n",
    "    name=\"space\"\n",
    ")\n",
    "\n",
    "# Installation constraint: Panels can only be installed if selected\n",
    "M = 1000  # A large number\n",
    "for j in types_of_panels:\n",
    "    model.addConstr(x[j] <= M * y[j], name=f\"install_{j}\")\n",
    "\n",
    "# Optimize the model\n",
    "model.optimize()"
   ]
  },
  {
   "cell_type": "code",
   "execution_count": 6,
   "metadata": {},
   "outputs": [
    {
     "name": "stdout",
     "output_type": "stream",
     "text": [
      "No optimal solution found.\n"
     ]
    }
   ],
   "source": [
    "# Print the results\n",
    "if model.status == GRB.OPTIMAL:\n",
    "    print(\"Optimal solution found:\")\n",
    "    for j in types_of_panels:\n",
    "        print(f\"{j}: {x[j].x} panels, Build: {y[j].x}\")\n",
    "    print(f\"Total Cost: ${model.objVal}\")\n",
    "else:\n",
    "    print(\"No optimal solution found.\")"
   ]
  }
 ],
 "metadata": {
  "kernelspec": {
   "display_name": "Python 3",
   "language": "python",
   "name": "python3"
  },
  "language_info": {
   "codemirror_mode": {
    "name": "ipython",
    "version": 3
   },
   "file_extension": ".py",
   "mimetype": "text/x-python",
   "name": "python",
   "nbconvert_exporter": "python",
   "pygments_lexer": "ipython3",
   "version": "3.9.10"
  }
 },
 "nbformat": 4,
 "nbformat_minor": 2
}
