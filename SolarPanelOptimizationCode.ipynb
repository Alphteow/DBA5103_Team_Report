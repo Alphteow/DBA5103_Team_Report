{
 "cells": [
  {
   "cell_type": "code",
   "execution_count": 1,
   "metadata": {},
   "outputs": [],
   "source": [
    "import gurobipy as gp\n",
    "from gurobipy import GRB\n",
    "import pandas as pd\n",
    "import numpy as np"
   ]
  },
  {
   "cell_type": "code",
   "execution_count": 2,
   "metadata": {},
   "outputs": [
    {
     "data": {
      "text/plain": [
       "{'Central Region': 12698.599999999999,\n",
       " 'East Region': 3884.1000000000004,\n",
       " 'North East Region': 3428.7000000000003,\n",
       " 'North Region': 3354.5,\n",
       " 'West Region': 2853.1000000000004}"
      ]
     },
     "execution_count": 2,
     "metadata": {},
     "output_type": "execute_result"
    }
   ],
   "source": [
    "# Load the Excel file\n",
    "file_name = \"SES_2024_tidy.xlsx.coredownload.xlsx\"\n",
    "sheet_name = \"T3.5\"\n",
    "\n",
    "# Read the data from the Excel file\n",
    "df = pd.read_excel(file_name, sheet_name=sheet_name)\n",
    "df = df.fillna(0)\n",
    "\n",
    "# Treat the random 's' as 0\n",
    "df['Kwh_Per_Acc_Cleaned'] = df['Kwh Per Acc'].apply(lambda x: 0 if isinstance(x, str) and 's' in x else x) \n",
    "\n",
    "# Filter the data for the year 2024 and 'Dwelling Type' as 'overall'\n",
    "filtered_data = df[(df['Year'] == 2024) & (df['Dwelling Type'] == 'Overall') & (df['Month'] == 'Annual')]\n",
    "\n",
    "# Calculate total consumption per region\n",
    "regions = ['Central Region', 'East Region', 'North East Region', 'North Region', 'West Region']\n",
    "demand_kW_per_region = {\n",
    "    region: filtered_data[filtered_data['Region'] == region]['Kwh_Per_Acc_Cleaned'].astype(float).sum()\n",
    "    for region in regions\n",
    "}\n",
    "\n",
    "demand_kW_per_region"
   ]
  },
  {
   "cell_type": "code",
   "execution_count": 3,
   "metadata": {},
   "outputs": [
    {
     "data": {
      "text/plain": [
       "{'Central Region': 541,\n",
       " 'East Region': 400,\n",
       " 'North East Region': 493,\n",
       " 'North Region': 303,\n",
       " 'West Region': 506}"
      ]
     },
     "execution_count": 3,
     "metadata": {},
     "output_type": "execute_result"
    }
   ],
   "source": [
    "df_carpark = pd.read_csv('Checkmark2.csv')\n",
    "\n",
    "# Calculate the number of car parks per region\n",
    "carpark_per_region = {\n",
    "    region: df_carpark[df_carpark['region'] == region].shape[0]\n",
    "    for region in regions\n",
    "}\n",
    "\n",
    "# Output the result\n",
    "carpark_per_region"
   ]
  },
  {
   "cell_type": "code",
   "execution_count": 4,
   "metadata": {},
   "outputs": [],
   "source": [
    "# Sort the DataFrame by region to ensure consistent labeling\n",
    "df_carpark.sort_values(by='region', inplace=True)\n",
    "\n",
    "# Initialize a new column for carpark labels\n",
    "df_carpark['carpark_label'] = 0\n",
    "\n",
    "# Group the DataFrame by the 'region' column\n",
    "grouped = df_carpark.groupby('region')\n",
    "\n",
    "# Assign labels to each carpark within each region\n",
    "for region, group in grouped:\n",
    "    # Assign labels from 1 to the number of carparks in the region\n",
    "    df_carpark.loc[group.index, 'carpark_label'] = range(1, len(group) + 1)\n",
    "    "
   ]
  },
  {
   "cell_type": "code",
   "execution_count": 5,
   "metadata": {},
   "outputs": [
    {
     "data": {
      "text/plain": [
       "{'Central Region': 1384689.5,\n",
       " 'East Region': 1023800.0,\n",
       " 'North East Region': 1261833.5,\n",
       " 'North Region': 775528.5,\n",
       " 'West Region': 1295107.0}"
      ]
     },
     "execution_count": 5,
     "metadata": {},
     "output_type": "execute_result"
    }
   ],
   "source": [
    "# Define other parameters\n",
    "types_of_panels = ['Monocrystalline', 'Polycrystalline', 'Thin-film']\n",
    "efficiency = {'Monocrystalline': 0.15, 'Polycrystalline': 0.13, 'Thin-film': 0.07}\n",
    "var_cost = {'Monocrystalline': 266.125, 'Polycrystalline': 265.85, 'Thin-film': 265.5}\n",
    "fixed_cost = 39457.75\n",
    "available_space_m2 = 2559.5\n",
    "budget_limit = 40_000_000 # Budget limit in dollars\n",
    "\n",
    "# Calculate the total area by region constraint\n",
    "area_by_region_constraint = {\n",
    "    region: carpark_per_region[region] * available_space_m2\n",
    "    for region in carpark_per_region\n",
    "}\n",
    "\n",
    "area_by_region_constraint"
   ]
  },
  {
   "cell_type": "code",
   "execution_count": 6,
   "metadata": {},
   "outputs": [],
   "source": [
    "# Define the range of carpark sizes\n",
    "min_size = 1808\n",
    "max_size = 3311\n",
    "\n",
    "# Calculate the mean and standard deviation\n",
    "mean_size = available_space_m2\n",
    "std_dev = (max_size - min_size) / 6  # Assuming 99.7% of data falls within the range\n",
    "\n",
    "# Generate carpark sizes\n",
    "num_carparks = len(df_carpark)  # Number of carparks in the CSV\n",
    "carpark_sizes = np.random.normal(loc=mean_size, scale=std_dev, size=num_carparks)\n",
    "\n",
    "# Clip the values to ensure they fall within the specified range\n",
    "carpark_sizes = np.clip(carpark_sizes, min_size, max_size)\n",
    "\n",
    "# Add the generated sizes as a new column in the DataFrame\n",
    "df_carpark['carpark_area'] = carpark_sizes\n",
    "\n",
    "# Save the updated DataFrame to a new CSV file\n",
    "df_carpark.to_csv('Checkmark4.csv', index=False)\n",
    "\n",
    "carpark_areas = { (row['region'], row['carpark_label']): row['carpark_area'] for _, row in df_carpark.iterrows() }"
   ]
  },
  {
   "cell_type": "code",
   "execution_count": 7,
   "metadata": {},
   "outputs": [
    {
     "name": "stdout",
     "output_type": "stream",
     "text": [
      "Set parameter Username\n",
      "Academic license - for non-commercial use only - expires 2025-08-22\n"
     ]
    }
   ],
   "source": [
    "# Create a new model\n",
    "model = gp.Model(\"solar_optimization\")\n",
    "\n",
    "x = model.addVars(\n",
    "    [(region, panel_type, carpark) \n",
    "     for region in regions \n",
    "     for panel_type in types_of_panels \n",
    "     for carpark in range(1, carpark_per_region[region] + 1)],\n",
    "    vtype=GRB.CONTINUOUS, \n",
    "    name=\"x\"\n",
    ")\n",
    "\n",
    "y = model.addVars(\n",
    "    [(region, carpark) \n",
    "     for region in regions \n",
    "     for carpark in range(1, carpark_per_region[region] + 1)],\n",
    "    vtype=GRB.BINARY, \n",
    "    name=\"y\"\n",
    ")"
   ]
  },
  {
   "cell_type": "code",
   "execution_count": 8,
   "metadata": {},
   "outputs": [],
   "source": [
    "model.setObjective( gp.quicksum( fixed_cost * y[region, carpark] + gp.quicksum(var_cost[panel] * x[region, panel, carpark] for panel in types_of_panels) for region in regions for carpark in range(1, carpark_per_region[region] + 1) ), GRB.MINIMIZE )"
   ]
  },
  {
   "cell_type": "markdown",
   "metadata": {},
   "source": [
    "<h3>Can budget by maximum number of panels you want to build if you do this way it's 1000 in the last line</h3>"
   ]
  },
  {
   "cell_type": "code",
   "execution_count": 9,
   "metadata": {},
   "outputs": [],
   "source": [
    "# # Constraints\n",
    "# for i in regions:\n",
    "#     # Demand constraint with maximum power per panel\n",
    "#     model.addConstr(\n",
    "#         gp.quicksum(efficiency[j] * max_power_per_panel_kW * x[i, j] for j in types_of_panels) >= demand_kW_per_region[i],\n",
    "#         name=f\"demand_{i}\"\n",
    "#     )\n",
    "\n",
    "#     # Space constraint\n",
    "#     model.addConstr(\n",
    "#         gp.quicksum(x[i, j] * panel_area_m2 for j in types_of_panels) <= available_space_m2,\n",
    "#         name=f\"space_{i}\"\n",
    "#     )\n",
    "\n",
    "#     # Installation constraints\n",
    "#     for j in types_of_panels:\n",
    "#         model.addConstr(x[i, j] <= 1000 * y[i, j], name=f\"install_{i}_{j}\")"
   ]
  },
  {
   "cell_type": "markdown",
   "metadata": {},
   "source": [
    "<h3>Or if you do this way then you budget by the money set in the cell above. For now I put $1 mil</h3>"
   ]
  },
  {
   "cell_type": "code",
   "execution_count": 10,
   "metadata": {},
   "outputs": [],
   "source": [
    "# Add constraints\n",
    "for region in regions:\n",
    "    for carpark in range(1, carpark_per_region[region] + 1):\n",
    "        carpark_key = (region, carpark)\n",
    "        if carpark_key in carpark_areas:\n",
    "            # Space constraint for each carpark using the carpark_area from the CSV\n",
    "            model.addConstr(\n",
    "                gp.quicksum(10 * x[region, panel, carpark] for panel in types_of_panels) <= carpark_areas[carpark_key],\n",
    "                f\"Space_Constraint_{region}_{carpark}\"\n",
    "            )\n",
    "        else:\n",
    "            raise ValueError(f\"Carpark area not found for {carpark_key}\")\n",
    "\n",
    "    # Demand constraint for each region\n",
    "    model.addConstr(\n",
    "        gp.quicksum(efficiency[panel] * gp.quicksum(x[region, panel, carpark] for carpark in range(1, carpark_per_region[region] + 1)) for panel in types_of_panels) >= demand_kW_per_region[region],\n",
    "        f\"Demand_Constraint_{region}\"\n",
    "    )\n",
    "    \n",
    "    # Budget constraint for each region\n",
    "    model.addConstr(\n",
    "        gp.quicksum(fixed_cost * y[region, carpark] + gp.quicksum(var_cost[panel] * x[region, panel, carpark] for panel in types_of_panels) for carpark in range(1, carpark_per_region[region] + 1)) <= budget_limit,\n",
    "        f\"Budget_Constraint_{region}\"\n",
    "    )\n",
    "    \n",
    "    # Big M and non-negativity constraints\n",
    "    for panel in types_of_panels:\n",
    "        for carpark in range(1, carpark_per_region[region] + 1):\n",
    "            model.addConstr(x[region, panel, carpark] <= GRB.INFINITY * y[region, carpark], f\"Big_M_Constraint_{region}_{panel}_{carpark}\")\n",
    "            model.addConstr(x[region, panel, carpark] >= 0, f\"Non-Negativity_{region}_{panel}_{carpark}\")"
   ]
  },
  {
   "cell_type": "code",
   "execution_count": null,
   "metadata": {},
   "outputs": [
    {
     "name": "stdout",
     "output_type": "stream",
     "text": [
      "Gurobi Optimizer version 11.0.3 build v11.0.3rc0 (win64 - Windows 11.0 (22631.2))\n",
      "\n",
      "CPU model: AMD Ryzen 7 5825U with Radeon Graphics, instruction set [SSE2|AVX|AVX2]\n",
      "Thread count: 8 physical cores, 16 logical processors, using up to 16 threads\n",
      "\n",
      "Optimize a model with 15711 rows, 8972 columns and 42617 nonzeros\n",
      "Model fingerprint: 0x291ca902\n",
      "Variable types: 6729 continuous, 2243 integer (2243 binary)\n",
      "Coefficient statistics:\n",
      "  Matrix range     [7e-02, 1e+100]\n",
      "  Objective range  [3e+02, 4e+04]\n",
      "  Bounds range     [1e+00, 1e+00]\n",
      "  RHS range        [2e+03, 4e+07]\n",
      "Warning: Model contains large matrix coefficient range\n",
      "         Consider reformulating model or setting NumericFocus parameter\n",
      "         to avoid numerical issues.\n",
      "Presolve removed 13459 rows and 0 columns\n",
      "Presolve time: 0.66s\n",
      "Presolved: 2252 rows, 8972 columns, 23461 nonzeros\n",
      "Variable types: 6729 continuous, 2243 integer (2243 binary)\n",
      "\n",
      "Root relaxation: objective 7.096176e+07, 2314 iterations, 0.02 seconds (0.01 work units)\n",
      "\n",
      "    Nodes    |    Current Node    |     Objective Bounds      |     Work\n",
      " Expl Unexpl |  Obj  Depth IntInf | Incumbent    BestBd   Gap | It/Node Time\n",
      "\n",
      "     0     0 7.0962e+07    0    5          - 7.0962e+07      -     -    0s\n",
      "H    0     0                    7.105960e+07 7.0962e+07  0.14%     -    0s\n",
      "     0     0 7.0962e+07    0    8 7.1060e+07 7.0962e+07  0.14%     -    0s\n",
      "     0     0 7.0962e+07    0    7 7.1060e+07 7.0962e+07  0.14%     -    0s\n",
      "     0     0 7.0962e+07    0   13 7.1060e+07 7.0962e+07  0.14%     -    1s\n",
      "     0     0 7.0962e+07    0   11 7.1060e+07 7.0962e+07  0.14%     -    1s\n",
      "     0     0 7.0962e+07    0   17 7.1060e+07 7.0962e+07  0.14%     -    1s\n",
      "     0     0 7.0962e+07    0   17 7.1060e+07 7.0962e+07  0.14%     -    1s\n",
      " 10531  9713 7.0965e+07  255    2 7.1060e+07 7.0963e+07  0.14%   1.4    5s\n",
      "H12436 11014                    7.105960e+07 7.0963e+07  0.14%   1.2    5s\n",
      " 26947 20759 7.0964e+07   39    2 7.1060e+07 7.0964e+07  0.14%   1.2   10s\n",
      " 54651 39643 7.0969e+07  250    2 7.1060e+07 7.0964e+07  0.14%   1.2   15s\n",
      " 80458 50758 7.0995e+07  332    2 7.1060e+07 7.0964e+07  0.13%   1.2   20s\n",
      "H87983 55767                    7.105960e+07 7.0964e+07  0.13%   1.2   21s\n",
      "H95625 58967                    7.105960e+07 7.0964e+07  0.13%   1.2   22s\n",
      "H109291 69436                    7.105960e+07 7.0964e+07  0.13%   1.2   24s\n",
      " 109291 72862 7.0971e+07   90    2 7.1060e+07 7.0964e+07  0.13%   1.3   25s\n",
      " 142967 95377 7.0978e+07  457    2 7.1060e+07 7.0964e+07  0.13%   1.2   30s\n",
      "H158920 104420                    7.105960e+07 7.0964e+07  0.13%   1.3   32s\n",
      "H167948 109949                    7.105960e+07 7.0964e+07  0.13%   1.2   33s\n",
      " 168134 110076 7.0964e+07   20   29 7.1060e+07 7.0964e+07  0.13%   1.3   47s\n",
      " 172828 114978 7.0966e+07  179    3 7.1060e+07 7.0964e+07  0.13%   1.3   50s\n",
      " 184618 120245 7.0966e+07   81    2 7.1060e+07 7.0964e+07  0.13%   1.3   55s\n",
      " 198166 131736 7.0964e+07   34    5 7.1060e+07 7.0964e+07  0.13%   1.3   60s\n",
      " 227503 143470 7.0964e+07  195    2 7.1060e+07 7.0964e+07  0.13%   1.3   65s\n",
      " 242039 148218 7.0965e+07   58    2 7.1060e+07 7.0964e+07  0.13%   1.3   70s\n",
      " 269064 163919 7.0964e+07   92    3 7.1060e+07 7.0964e+07  0.13%   1.3   75s\n",
      " 297182 171550 7.0995e+07  428    2 7.1060e+07 7.0964e+07  0.13%   1.3   80s\n",
      " 314604 181512 7.0973e+07   90    2 7.1060e+07 7.0965e+07  0.13%   1.4   85s\n",
      " 356226 186830 7.0986e+07  117    2 7.1060e+07 7.0965e+07  0.13%   1.4   90s\n",
      "H358623 186031                    7.105960e+07 7.0965e+07  0.13%   1.4   90s\n",
      " 379889 198823 7.0968e+07  198    2 7.1060e+07 7.0965e+07  0.13%   1.4   95s\n",
      " 402549 214521 7.0965e+07   65    2 7.1060e+07 7.0965e+07  0.13%   1.4  100s\n",
      " 437178 215828 7.0995e+07  184    2 7.1060e+07 7.0965e+07  0.13%   1.4  105s\n",
      " 456057 236500 7.0973e+07  132    2 7.1060e+07 7.0965e+07  0.13%   1.4  112s\n",
      " 472073 231207 7.0969e+07  135    2 7.1060e+07 7.0965e+07  0.13%   1.4  115s\n",
      " 472444 243856 7.0973e+07  159    2 7.1060e+07 7.0965e+07  0.13%   1.4  121s\n",
      " 493407 248039 7.0973e+07  168    2 7.1060e+07 7.0965e+07  0.13%   1.4  125s\n",
      "H514273 255568                    7.105960e+07 7.0965e+07  0.13%   1.4  128s\n",
      " 526872 264897 7.0974e+07  216    2 7.1060e+07 7.0965e+07  0.13%   1.4  130s\n",
      " 565277 290345 7.0966e+07  284    3 7.1060e+07 7.0965e+07  0.13%   1.4  135s\n",
      " 586457 320396 7.0965e+07  235    2 7.1060e+07 7.0965e+07  0.13%   1.4  144s\n",
      " 602473 320405 7.0992e+07  220    2 7.1060e+07 7.0965e+07  0.13%   1.4  147s\n",
      " 602489 330081 7.0992e+07  221    2 7.1060e+07 7.0965e+07  0.13%   1.4  152s\n",
      " 618521 331983 7.0984e+07  146    2 7.1060e+07 7.0965e+07  0.13%   1.3  155s\n",
      "H620769 331983                    7.105960e+07 7.0965e+07  0.13%   1.3  155s\n",
      " 639885 345653     cutoff   90      7.1060e+07 7.0965e+07  0.13%   1.4  160s\n",
      " 657381 355718 7.0974e+07  224    2 7.1060e+07 7.0965e+07  0.13%   1.4  165s\n",
      " 693121 388141 7.0973e+07  169    2 7.1060e+07 7.0965e+07  0.13%   1.4  170s\n",
      " 721428 399429 7.0998e+07  144    2 7.1060e+07 7.0965e+07  0.13%   1.4  175s\n",
      " 745600 418481 7.0967e+07  338    2 7.1060e+07 7.0965e+07  0.13%   1.3  180s\n",
      " 764601 430934 7.0978e+07  392    2 7.1060e+07 7.0965e+07  0.13%   1.3  185s\n",
      " 780367 442842 7.0995e+07  528    2 7.1060e+07 7.0965e+07  0.13%   1.3  190s\n",
      " 797693 459027 7.0965e+07  193    2 7.1060e+07 7.0965e+07  0.13%   1.3  195s\n",
      " 816088 474874 7.0967e+07   68    2 7.1060e+07 7.0965e+07  0.13%   1.3  200s\n"
     ]
    }
   ],
   "source": [
    "# Optimize the model\n",
    "model.optimize()"
   ]
  },
  {
   "cell_type": "code",
   "execution_count": null,
   "metadata": {},
   "outputs": [
    {
     "name": "stdout",
     "output_type": "stream",
     "text": [
      "              Region  Carpark    y  Monocrystalline  Polycrystalline  \\\n",
      "0     Central Region        1  0.0             0.00              0.0   \n",
      "1     Central Region        2  0.0             0.00              0.0   \n",
      "2     Central Region        3  0.0             0.00              0.0   \n",
      "3     Central Region        4  1.0           255.95              0.0   \n",
      "4     Central Region        5  0.0             0.00              0.0   \n",
      "...              ...      ...  ...              ...              ...   \n",
      "2238     West Region      502  0.0             0.00              0.0   \n",
      "2239     West Region      503  0.0             0.00              0.0   \n",
      "2240     West Region      504  0.0             0.00              0.0   \n",
      "2241     West Region      505  0.0             0.00              0.0   \n",
      "2242     West Region      506  0.0             0.00              0.0   \n",
      "\n",
      "      Thin-film  \n",
      "0           0.0  \n",
      "1           0.0  \n",
      "2           0.0  \n",
      "3           0.0  \n",
      "4           0.0  \n",
      "...         ...  \n",
      "2238        0.0  \n",
      "2239        0.0  \n",
      "2240        0.0  \n",
      "2241        0.0  \n",
      "2242        0.0  \n",
      "\n",
      "[2243 rows x 6 columns]\n"
     ]
    }
   ],
   "source": [
    "# Check if the model has an optimal solution\n",
    "if model.status == GRB.OPTIMAL:\n",
    "    # Create lists to store the results\n",
    "    results = []\n",
    "\n",
    "    # Iterate over regions and carparks to collect results\n",
    "    for region in regions:\n",
    "        for carpark in range(1, carpark_per_region[region] + 1):\n",
    "            # Collect the binary decision variable y\n",
    "            y_value = y[region, carpark].X\n",
    "            # Collect the continuous decision variables x for each panel type\n",
    "            x_values = {panel: x[region, panel, carpark].X for panel in types_of_panels}\n",
    "            # Append the results to the list\n",
    "            results.append({\n",
    "                'Region': region,\n",
    "                'Carpark': carpark,\n",
    "                'y': y_value,\n",
    "                **x_values\n",
    "            })\n",
    "\n",
    "    # Create a DataFrame from the results\n",
    "    df_results = pd.DataFrame(results)\n",
    "\n",
    "    # Print the DataFrame\n",
    "    print(df_results)\n",
    "else:\n",
    "    print(\"No optimal solution found.\")\n",
    "\n",
    "df_results.to_excel(\"results.xlsx\")"
   ]
  },
  {
   "cell_type": "code",
   "execution_count": null,
   "metadata": {},
   "outputs": [
    {
     "name": "stdout",
     "output_type": "stream",
     "text": [
      "Set parameter LogFile to value \"gurobi_log.txt\"\n",
      "Gurobi Optimizer version 11.0.3 build v11.0.3rc0 (win64 - Windows 11.0 (22631.2))\n",
      "\n",
      "CPU model: AMD Ryzen 7 5825U with Radeon Graphics, instruction set [SSE2|AVX|AVX2]\n",
      "Thread count: 8 physical cores, 16 logical processors, using up to 16 threads\n",
      "\n",
      "Optimize a model with 45 rows, 20 columns and 95 nonzeros\n",
      "Model fingerprint: 0x49401357\n",
      "Variable types: 15 continuous, 5 integer (5 binary)\n",
      "Coefficient statistics:\n",
      "  Matrix range     [7e-02, 1e+100]\n",
      "  Objective range  [3e+02, 4e+04]\n",
      "  Bounds range     [1e+00, 1e+00]\n",
      "  RHS range        [3e+03, 4e+07]\n",
      "Warning: Model contains large matrix coefficient range\n",
      "         Consider reformulating model or setting NumericFocus parameter\n",
      "         to avoid numerical issues.\n",
      "Presolved: 2 rows, 3 columns, 6 nonzeros\n",
      "\n",
      "Continuing optimization...\n",
      "\n",
      "\n",
      "Explored 1 nodes (1 simplex iterations) in 0.01 seconds (0.00 work units)\n",
      "Thread count was 16 (of 16 available processors)\n",
      "\n",
      "Solution count 1: 4.67142e+07 \n",
      "\n",
      "Optimal solution found (tolerance 1.00e-04)\n",
      "Best objective 4.671416458333e+07, best bound 4.671416458333e+07, gap 0.0000%\n"
     ]
    }
   ],
   "source": [
    "# Set the txt file to see the logs\n",
    "model.setParam('LogFile', 'gurobi_log.txt')\n",
    "model.setParam('OutputFlag', 1) \n",
    "\n",
    "# Optimize the model\n",
    "model.optimize()\n",
    "\n",
    "# In case we mess up and we wanna see the variables \n",
    "if model.status == GRB.INFEASIBLE:\n",
    "    model.computeIIS()\n",
    "    model.write(\"model.ilp\")"
   ]
  },
  {
   "cell_type": "code",
   "execution_count": null,
   "metadata": {},
   "outputs": [
    {
     "name": "stdout",
     "output_type": "stream",
     "text": [
      "Optimal solution found:\n",
      "Region: Central Region, Monocrystalline: 84657.33333333333 kwp System, Build: 1.0\n",
      "Region: Central Region, Polycrystalline: 0.0 kwp System, Build: 1.0\n",
      "Region: Central Region, Thin-film: 0.0 kwp System, Build: 1.0\n",
      "Region: East Region, Monocrystalline: 25894.0 kwp System, Build: 1.0\n",
      "Region: East Region, Polycrystalline: 0.0 kwp System, Build: 1.0\n",
      "Region: East Region, Thin-film: 0.0 kwp System, Build: 1.0\n",
      "Region: North East Region, Monocrystalline: 22858.0 kwp System, Build: 1.0\n",
      "Region: North East Region, Polycrystalline: 0.0 kwp System, Build: 1.0\n",
      "Region: North East Region, Thin-film: 0.0 kwp System, Build: 1.0\n",
      "Region: North Region, Monocrystalline: 22363.333333333332 kwp System, Build: 1.0\n",
      "Region: North Region, Polycrystalline: 0.0 kwp System, Build: 1.0\n",
      "Region: North Region, Thin-film: 0.0 kwp System, Build: 1.0\n",
      "Region: West Region, Monocrystalline: 19020.666666666668 kwp System, Build: 1.0\n",
      "Region: West Region, Polycrystalline: 0.0 kwp System, Build: 1.0\n",
      "Region: West Region, Thin-film: 0.0 kwp System, Build: 1.0\n",
      "Total Cost: $46714164.58333333\n"
     ]
    }
   ],
   "source": [
    "# Print the results\n",
    "if model.status == GRB.OPTIMAL:\n",
    "    print(\"Optimal solution found:\")\n",
    "    for i in regions:\n",
    "        for j in types_of_panels:\n",
    "            print(f\"Region: {i}, {j}: {x[i, j].x} kwp System, Build: {y[i].x}\")\n",
    "    print(f\"Total Cost: ${model.objVal}\")\n",
    "else:\n",
    "    print(\"No optimal solution found.\")"
   ]
  },
  {
   "cell_type": "code",
   "execution_count": null,
   "metadata": {},
   "outputs": [
    {
     "name": "stdout",
     "output_type": "stream",
     "text": [
      "Constraint: Demand_Constraint_Central Region, Expression: 0.15 x[Central Region,Monocrystalline] + 0.13 x[Central Region,Polycrystalline] + 0.07 x[Central Region,Thin-film], RHS: 12698.599999999999\n",
      "Constraint: Space_Constraint_Central Region, Expression: 10.0 x[Central Region,Monocrystalline] + 10.0 x[Central Region,Polycrystalline] + 10.0 x[Central Region,Thin-film], RHS: 1384689.5\n",
      "Constraint: Budget_Constraint_Central Region, Expression: 266.125 x[Central Region,Monocrystalline] + 265.85 x[Central Region,Polycrystalline] + 265.5 x[Central Region,Thin-film] + 39457.75 y[Central Region], RHS: 40000000.0\n",
      "Constraint: Big_M_Constraint_Central Region_Monocrystalline, Expression: x[Central Region,Monocrystalline] + -1e+100 y[Central Region], RHS: 0.0\n",
      "Constraint: Non-Negativity_Central Region_Monocrystalline, Expression: x[Central Region,Monocrystalline], RHS: 0.0\n",
      "Constraint: Big_M_Constraint_Central Region_Polycrystalline, Expression: x[Central Region,Polycrystalline] + -1e+100 y[Central Region], RHS: 0.0\n",
      "Constraint: Non-Negativity_Central Region_Polycrystalline, Expression: x[Central Region,Polycrystalline], RHS: 0.0\n",
      "Constraint: Big_M_Constraint_Central Region_Thin-film, Expression: x[Central Region,Thin-film] + -1e+100 y[Central Region], RHS: 0.0\n",
      "Constraint: Non-Negativity_Central Region_Thin-film, Expression: x[Central Region,Thin-film], RHS: 0.0\n",
      "Constraint: Demand_Constraint_East Region, Expression: 0.15 x[East Region,Monocrystalline] + 0.13 x[East Region,Polycrystalline] + 0.07 x[East Region,Thin-film], RHS: 3884.1000000000004\n",
      "Constraint: Space_Constraint_East Region, Expression: 10.0 x[East Region,Monocrystalline] + 10.0 x[East Region,Polycrystalline] + 10.0 x[East Region,Thin-film], RHS: 1023800.0\n",
      "Constraint: Budget_Constraint_East Region, Expression: 266.125 x[East Region,Monocrystalline] + 265.85 x[East Region,Polycrystalline] + 265.5 x[East Region,Thin-film] + 39457.75 y[East Region], RHS: 40000000.0\n",
      "Constraint: Big_M_Constraint_East Region_Monocrystalline, Expression: x[East Region,Monocrystalline] + -1e+100 y[East Region], RHS: 0.0\n",
      "Constraint: Non-Negativity_East Region_Monocrystalline, Expression: x[East Region,Monocrystalline], RHS: 0.0\n",
      "Constraint: Big_M_Constraint_East Region_Polycrystalline, Expression: x[East Region,Polycrystalline] + -1e+100 y[East Region], RHS: 0.0\n",
      "Constraint: Non-Negativity_East Region_Polycrystalline, Expression: x[East Region,Polycrystalline], RHS: 0.0\n",
      "Constraint: Big_M_Constraint_East Region_Thin-film, Expression: x[East Region,Thin-film] + -1e+100 y[East Region], RHS: 0.0\n",
      "Constraint: Non-Negativity_East Region_Thin-film, Expression: x[East Region,Thin-film], RHS: 0.0\n",
      "Constraint: Demand_Constraint_North East Region, Expression: 0.15 x[North East Region,Monocrystalline] + 0.13 x[North East Region,Polycrystalline] + 0.07 x[North East Region,Thin-film], RHS: 3428.7000000000003\n",
      "Constraint: Space_Constraint_North East Region, Expression: 10.0 x[North East Region,Monocrystalline] + 10.0 x[North East Region,Polycrystalline] + 10.0 x[North East Region,Thin-film], RHS: 1261833.5\n",
      "Constraint: Budget_Constraint_North East Region, Expression: 266.125 x[North East Region,Monocrystalline] + 265.85 x[North East Region,Polycrystalline] + 265.5 x[North East Region,Thin-film] + 39457.75 y[North East Region], RHS: 40000000.0\n",
      "Constraint: Big_M_Constraint_North East Region_Monocrystalline, Expression: x[North East Region,Monocrystalline] + -1e+100 y[North East Region], RHS: 0.0\n",
      "Constraint: Non-Negativity_North East Region_Monocrystalline, Expression: x[North East Region,Monocrystalline], RHS: 0.0\n",
      "Constraint: Big_M_Constraint_North East Region_Polycrystalline, Expression: x[North East Region,Polycrystalline] + -1e+100 y[North East Region], RHS: 0.0\n",
      "Constraint: Non-Negativity_North East Region_Polycrystalline, Expression: x[North East Region,Polycrystalline], RHS: 0.0\n",
      "Constraint: Big_M_Constraint_North East Region_Thin-film, Expression: x[North East Region,Thin-film] + -1e+100 y[North East Region], RHS: 0.0\n",
      "Constraint: Non-Negativity_North East Region_Thin-film, Expression: x[North East Region,Thin-film], RHS: 0.0\n",
      "Constraint: Demand_Constraint_North Region, Expression: 0.15 x[North Region,Monocrystalline] + 0.13 x[North Region,Polycrystalline] + 0.07 x[North Region,Thin-film], RHS: 3354.5\n",
      "Constraint: Space_Constraint_North Region, Expression: 10.0 x[North Region,Monocrystalline] + 10.0 x[North Region,Polycrystalline] + 10.0 x[North Region,Thin-film], RHS: 775528.5\n",
      "Constraint: Budget_Constraint_North Region, Expression: 266.125 x[North Region,Monocrystalline] + 265.85 x[North Region,Polycrystalline] + 265.5 x[North Region,Thin-film] + 39457.75 y[North Region], RHS: 40000000.0\n",
      "Constraint: Big_M_Constraint_North Region_Monocrystalline, Expression: x[North Region,Monocrystalline] + -1e+100 y[North Region], RHS: 0.0\n",
      "Constraint: Non-Negativity_North Region_Monocrystalline, Expression: x[North Region,Monocrystalline], RHS: 0.0\n",
      "Constraint: Big_M_Constraint_North Region_Polycrystalline, Expression: x[North Region,Polycrystalline] + -1e+100 y[North Region], RHS: 0.0\n",
      "Constraint: Non-Negativity_North Region_Polycrystalline, Expression: x[North Region,Polycrystalline], RHS: 0.0\n",
      "Constraint: Big_M_Constraint_North Region_Thin-film, Expression: x[North Region,Thin-film] + -1e+100 y[North Region], RHS: 0.0\n",
      "Constraint: Non-Negativity_North Region_Thin-film, Expression: x[North Region,Thin-film], RHS: 0.0\n",
      "Constraint: Demand_Constraint_West Region, Expression: 0.15 x[West Region,Monocrystalline] + 0.13 x[West Region,Polycrystalline] + 0.07 x[West Region,Thin-film], RHS: 2853.1000000000004\n",
      "Constraint: Space_Constraint_West Region, Expression: 10.0 x[West Region,Monocrystalline] + 10.0 x[West Region,Polycrystalline] + 10.0 x[West Region,Thin-film], RHS: 1295107.0\n",
      "Constraint: Budget_Constraint_West Region, Expression: 266.125 x[West Region,Monocrystalline] + 265.85 x[West Region,Polycrystalline] + 265.5 x[West Region,Thin-film] + 39457.75 y[West Region], RHS: 40000000.0\n",
      "Constraint: Big_M_Constraint_West Region_Monocrystalline, Expression: x[West Region,Monocrystalline] + -1e+100 y[West Region], RHS: 0.0\n",
      "Constraint: Non-Negativity_West Region_Monocrystalline, Expression: x[West Region,Monocrystalline], RHS: 0.0\n",
      "Constraint: Big_M_Constraint_West Region_Polycrystalline, Expression: x[West Region,Polycrystalline] + -1e+100 y[West Region], RHS: 0.0\n",
      "Constraint: Non-Negativity_West Region_Polycrystalline, Expression: x[West Region,Polycrystalline], RHS: 0.0\n",
      "Constraint: Big_M_Constraint_West Region_Thin-film, Expression: x[West Region,Thin-film] + -1e+100 y[West Region], RHS: 0.0\n",
      "Constraint: Non-Negativity_West Region_Thin-film, Expression: x[West Region,Thin-film], RHS: 0.0\n"
     ]
    }
   ],
   "source": [
    "for constr in model.getConstrs():\n",
    "    print(f\"Constraint: {constr.ConstrName}, Expression: {model.getRow(constr)}, RHS: {constr.RHS}\")"
   ]
  },
  {
   "cell_type": "code",
   "execution_count": null,
   "metadata": {},
   "outputs": [
    {
     "name": "stdout",
     "output_type": "stream",
     "text": [
      "Optimal solution found.\n"
     ]
    }
   ],
   "source": [
    "# Check if the model is infeasible\n",
    "if model.status == GRB.INFEASIBLE:\n",
    "    # Compute the IIS\n",
    "    model.computeIIS()\n",
    "    \n",
    "    # Print the constraints in the IIS\n",
    "    print(\"Constraints in the IIS:\")\n",
    "    for constr in model.getConstrs():\n",
    "        if constr.IISConstr:\n",
    "            print(constr.ConstrName)\n",
    "    \n",
    "    # Print the variable bounds in the IIS\n",
    "    print(\"Variable bounds in the IIS:\")\n",
    "    for var in model.getVars():\n",
    "        if var.IISLB:\n",
    "            print(f\"{var.VarName} (lower bound)\")\n",
    "        if var.IISUB:\n",
    "            print(f\"{var.VarName} (upper bound)\")\n",
    "else:\n",
    "    print(\"Optimal solution found.\")"
   ]
  }
 ],
 "metadata": {
  "kernelspec": {
   "display_name": "Python 3",
   "language": "python",
   "name": "python3"
  },
  "language_info": {
   "codemirror_mode": {
    "name": "ipython",
    "version": 3
   },
   "file_extension": ".py",
   "mimetype": "text/x-python",
   "name": "python",
   "nbconvert_exporter": "python",
   "pygments_lexer": "ipython3",
   "version": "3.9.10"
  }
 },
 "nbformat": 4,
 "nbformat_minor": 2
}
