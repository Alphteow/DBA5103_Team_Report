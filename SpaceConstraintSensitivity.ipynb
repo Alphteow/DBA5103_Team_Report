{
 "cells": [
  {
   "cell_type": "code",
   "execution_count": 305,
   "metadata": {},
   "outputs": [],
   "source": [
    "import gurobipy as gp\n",
    "from gurobipy import GRB\n",
    "import pandas as pd\n",
    "import numpy as np"
   ]
  },
  {
   "cell_type": "code",
   "execution_count": 306,
   "metadata": {},
   "outputs": [
    {
     "data": {
      "text/plain": [
       "{'Central Region': 12698.599999999999,\n",
       " 'East Region': 3884.1000000000004,\n",
       " 'North East Region': 3428.7000000000003,\n",
       " 'North Region': 3354.5,\n",
       " 'West Region': 2853.1000000000004}"
      ]
     },
     "execution_count": 306,
     "metadata": {},
     "output_type": "execute_result"
    }
   ],
   "source": [
    "# Load the Excel file\n",
    "file_name = \"SES_2024_tidy.xlsx.coredownload.xlsx\"\n",
    "sheet_name = \"T3.5\"\n",
    "\n",
    "# Read the data from the Excel file\n",
    "df = pd.read_excel(file_name, sheet_name=sheet_name)\n",
    "df = df.fillna(0)\n",
    "\n",
    "# Treat the random 's' as 0\n",
    "df['Kwh_Per_Acc_Cleaned'] = df['Kwh Per Acc'].apply(lambda x: 0 if isinstance(x, str) and 's' in x else x) \n",
    "\n",
    "# Filter the data for the year 2024 and 'Dwelling Type' as 'overall'\n",
    "filtered_data = df[(df['Year'] == 2024) & (df['Dwelling Type'] == 'Overall') & (df['Month'] == 'Annual')]\n",
    "\n",
    "# Calculate total consumption per region\n",
    "regions = ['Central Region', 'East Region', 'North East Region', 'North Region', 'West Region']\n",
    "demand_kW_per_region = {\n",
    "    region: filtered_data[filtered_data['Region'] == region]['Kwh_Per_Acc_Cleaned'].astype(float).sum()\n",
    "    for region in regions\n",
    "}\n",
    "\n",
    "demand_kW_per_region"
   ]
  },
  {
   "cell_type": "code",
   "execution_count": 307,
   "metadata": {},
   "outputs": [
    {
     "data": {
      "text/plain": [
       "{'Central Region': 541,\n",
       " 'East Region': 400,\n",
       " 'North East Region': 493,\n",
       " 'North Region': 303,\n",
       " 'West Region': 506}"
      ]
     },
     "execution_count": 307,
     "metadata": {},
     "output_type": "execute_result"
    }
   ],
   "source": [
    "df_carpark = pd.read_csv('Checkmark2.csv')\n",
    "\n",
    "# Calculate the number of car parks per region\n",
    "carpark_per_region = {\n",
    "    region: df_carpark[df_carpark['region'] == region].shape[0]\n",
    "    for region in regions\n",
    "}\n",
    "\n",
    "# Output the result\n",
    "carpark_per_region"
   ]
  },
  {
   "cell_type": "code",
   "execution_count": 308,
   "metadata": {},
   "outputs": [
    {
     "data": {
      "text/plain": [
       "{'Central Region': 1384689.5,\n",
       " 'East Region': 1023800.0,\n",
       " 'North East Region': 1261833.5,\n",
       " 'North Region': 775528.5,\n",
       " 'West Region': 1295107.0}"
      ]
     },
     "execution_count": 308,
     "metadata": {},
     "output_type": "execute_result"
    }
   ],
   "source": [
    "# Define other parameters\n",
    "types_of_panels = ['Monocrystalline', 'Polycrystalline', 'Thin-film']\n",
    "efficiency = {'Monocrystalline': 0.15, 'Polycrystalline': 0.13, 'Thin-film': 0.07}\n",
    "var_cost = {'Monocrystalline': 266.125, 'Polycrystalline': 265.85, 'Thin-film': 265.5}\n",
    "fixed_cost = 39457.75\n",
    "available_space_m2 = 2559.5\n",
    "\n",
    "'''Sensitivity analysis'''\n",
    "\n",
    "# available_space_m2 = 2559.5 * 1.1 # increase by 10%\n",
    "# available_space_m2 = 2559.5 * 0.9 # decrease by 10%\n",
    "# available_space_m2 = 1808 # lower bound\n",
    "# available_space_m2 = 3311 # upper bound\n",
    "\n",
    "budget_limit = 40_000_000 # Budget limit in dollars\n",
    "\n",
    "# Calculate the total area by region constraint\n",
    "area_by_region_constraint = {\n",
    "    region: carpark_per_region[region] * available_space_m2\n",
    "    for region in carpark_per_region\n",
    "}\n",
    "\n",
    "area_by_region_constraint"
   ]
  },
  {
   "cell_type": "code",
   "execution_count": 309,
   "metadata": {},
   "outputs": [],
   "source": [
    "# Create a new model\n",
    "model = gp.Model(\"solar_optimization\")\n",
    "\n",
    "# Decision variables\n",
    "x = model.addVars(regions, types_of_panels, vtype=GRB.INTEGER, name=\"x\")\n",
    "y = model.addVars(regions, vtype=GRB.BINARY, name=\"y\")"
   ]
  },
  {
   "cell_type": "code",
   "execution_count": 310,
   "metadata": {},
   "outputs": [],
   "source": [
    "model.setObjective(\n",
    "    gp.quicksum(fixed_cost * y[region] + gp.quicksum(var_cost[panel] * x[region, panel] for panel in types_of_panels) for region in regions),\n",
    "    GRB.MINIMIZE\n",
    ")"
   ]
  },
  {
   "cell_type": "code",
   "execution_count": 311,
   "metadata": {},
   "outputs": [
    {
     "name": "stdout",
     "output_type": "stream",
     "text": [
      "Gurobi Optimizer version 11.0.3 build v11.0.3rc0 (mac64[arm] - Darwin 23.3.0 23D60)\n",
      "\n",
      "CPU model: Apple M2\n",
      "Thread count: 8 physical cores, 8 logical processors, using up to 8 threads\n",
      "\n",
      "Optimize a model with 45 rows, 20 columns and 95 nonzeros\n",
      "Model fingerprint: 0x52d190b6\n",
      "Variable types: 0 continuous, 20 integer (5 binary)\n",
      "Coefficient statistics:\n",
      "  Matrix range     [7e-02, 1e+100]\n",
      "  Objective range  [3e+02, 4e+04]\n",
      "  Bounds range     [1e+00, 1e+00]\n",
      "  RHS range        [3e+03, 4e+07]\n",
      "Warning: Model contains large matrix coefficient range\n",
      "         Consider reformulating model or setting NumericFocus parameter\n",
      "         to avoid numerical issues.\n",
      "Presolve removed 43 rows and 17 columns\n",
      "Presolve time: 0.00s\n",
      "Presolved: 2 rows, 3 columns, 6 nonzeros\n",
      "Variable types: 0 continuous, 3 integer (0 binary)\n",
      "Found heuristic solution: objective 4.764331e+07\n",
      "Found heuristic solution: objective 4.671460e+07\n",
      "\n",
      "Root relaxation: cutoff, 0 iterations, 0.00 seconds (0.00 work units)\n",
      "\n",
      "Explored 1 nodes (0 simplex iterations) in 0.01 seconds (0.00 work units)\n",
      "Thread count was 8 (of 8 available processors)\n",
      "\n",
      "Solution count 2: 4.67146e+07 4.76433e+07 \n",
      "\n",
      "Optimal solution found (tolerance 1.00e-04)\n",
      "Best objective 4.671460482500e+07, best bound 4.671460482500e+07, gap 0.0000%\n",
      "y[Central Region] = 1.0\n",
      "x[Central Region,Monocrystalline] = 84653.0\n",
      "x[Central Region,Polycrystalline] = 5.0\n",
      "x[Central Region,Thin-film] = 0.0\n",
      "y[East Region] = 1.0\n",
      "x[East Region,Monocrystalline] = 25894.0\n",
      "x[East Region,Polycrystalline] = -0.0\n",
      "x[East Region,Thin-film] = -0.0\n",
      "y[North East Region] = 1.0\n",
      "x[North East Region,Monocrystalline] = 22858.0\n",
      "x[North East Region,Polycrystalline] = -0.0\n",
      "x[North East Region,Thin-film] = -0.0\n",
      "y[North Region] = 1.0\n",
      "x[North Region,Monocrystalline] = 22359.0\n",
      "x[North Region,Polycrystalline] = 5.0\n",
      "x[North Region,Thin-film] = -0.0\n",
      "y[West Region] = 1.0\n",
      "x[West Region,Monocrystalline] = 19019.0\n",
      "x[West Region,Polycrystalline] = 2.0\n",
      "x[West Region,Thin-film] = 0.0\n"
     ]
    }
   ],
   "source": [
    "# Add constraints\n",
    "for region in regions:\n",
    "    model.addConstr(gp.quicksum(efficiency[panel] * x[region, panel] for panel in types_of_panels) >= demand_kW_per_region[region], f\"Demand_Constraint_{region}\")\n",
    "    model.addConstr(gp.quicksum(15*x[region, panel] for panel in types_of_panels) <= area_by_region_constraint[region], f\"Space_Constraint_{region}\")\n",
    "    model.addConstr(fixed_cost * y[region] + gp.quicksum(var_cost[panel] * x[region, panel] for panel in types_of_panels) <= budget_limit, f\"Budget_Constraint_{region}\")\n",
    "    for panel in types_of_panels:\n",
    "        model.addConstr(x[region, panel] <= GRB.INFINITY * y[region], f\"Big_M_Constraint_{region}_{panel}\")\n",
    "        model.addConstr(x[region, panel] >= 0, f\"Non-Negativity_{region}_{panel}\")\n",
    "        \n",
    "\n",
    "# Optimize the model\n",
    "model.optimize()\n",
    "\n",
    "# Print the results\n",
    "if model.status == GRB.OPTIMAL:\n",
    "    for region in regions:\n",
    "        print(f\"y[{region}] = {y[region].X}\")\n",
    "        for panel in types_of_panels:\n",
    "            print(f\"x[{region},{panel}] = {x[region,panel].X}\")\n",
    "else:\n",
    "    print(\"No optimal solution found.\")"
   ]
  },
  {
   "cell_type": "code",
   "execution_count": 313,
   "metadata": {},
   "outputs": [
    {
     "name": "stdout",
     "output_type": "stream",
     "text": [
      "Optimal solution found:\n",
      "Central Region, Build: 1.0\n",
      "Monocrystalline: 84653.0 kwp System\n",
      "Polycrystalline: 5.0 kwp System\n",
      "Thin-film: 0.0 kwp System\n",
      "East Region, Build: 1.0\n",
      "Monocrystalline: 25894.0 kwp System\n",
      "Polycrystalline: -0.0 kwp System\n",
      "Thin-film: -0.0 kwp System\n",
      "North East Region, Build: 1.0\n",
      "Monocrystalline: 22858.0 kwp System\n",
      "Polycrystalline: -0.0 kwp System\n",
      "Thin-film: -0.0 kwp System\n",
      "North Region, Build: 1.0\n",
      "Monocrystalline: 22359.0 kwp System\n",
      "Polycrystalline: 5.0 kwp System\n",
      "Thin-film: -0.0 kwp System\n",
      "West Region, Build: 1.0\n",
      "Monocrystalline: 19019.0 kwp System\n",
      "Polycrystalline: 2.0 kwp System\n",
      "Thin-film: 0.0 kwp System\n",
      "Total Cost: $46714604.825\n"
     ]
    }
   ],
   "source": [
    "# Print the results\n",
    "if model.status == GRB.OPTIMAL:\n",
    "    print(\"Optimal solution found:\")\n",
    "    for i in regions:\n",
    "        print(f'{i}, Build: {y[i].x}')\n",
    "        for j in types_of_panels:\n",
    "            print(f\"{j}: {x[i, j].x} kwp System\")\n",
    "    print(f\"Total Cost: ${model.objVal}\")\n",
    "else:\n",
    "    print(\"No optimal solution found.\")"
   ]
  },
  {
   "cell_type": "code",
   "execution_count": 314,
   "metadata": {},
   "outputs": [
    {
     "name": "stdout",
     "output_type": "stream",
     "text": [
      "Optimal solution found.\n"
     ]
    }
   ],
   "source": [
    "# Check if the model is infeasible\n",
    "if model.status == GRB.INFEASIBLE:\n",
    "    # Compute the IIS\n",
    "    model.computeIIS()\n",
    "    \n",
    "    # Print the constraints in the IIS\n",
    "    print(\"Constraints in the IIS:\")\n",
    "    for constr in model.getConstrs():\n",
    "        if constr.IISConstr:\n",
    "            print(constr.ConstrName)\n",
    "    \n",
    "    # Print the variable bounds in the IIS\n",
    "    print(\"Variable bounds in the IIS:\")\n",
    "    for var in model.getVars():\n",
    "        if var.IISLB:\n",
    "            print(f\"{var.VarName} (lower bound)\")\n",
    "        if var.IISUB:\n",
    "            print(f\"{var.VarName} (upper bound)\")\n",
    "else:\n",
    "    print(\"Optimal solution found.\")"
   ]
  },
  {
   "cell_type": "code",
   "execution_count": null,
   "metadata": {},
   "outputs": [],
   "source": []
  }
 ],
 "metadata": {
  "kernelspec": {
   "display_name": "Python 3 (ipykernel)",
   "language": "python",
   "name": "python3"
  },
  "language_info": {
   "codemirror_mode": {
    "name": "ipython",
    "version": 3
   },
   "file_extension": ".py",
   "mimetype": "text/x-python",
   "name": "python",
   "nbconvert_exporter": "python",
   "pygments_lexer": "ipython3",
   "version": "3.12.4"
  }
 },
 "nbformat": 4,
 "nbformat_minor": 4
}
