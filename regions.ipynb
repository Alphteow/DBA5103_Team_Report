{
 "cells": [
  {
   "cell_type": "code",
   "execution_count": 29,
   "id": "78b4954d-4bdf-42b1-91d6-e09f72a4d957",
   "metadata": {},
   "outputs": [
    {
     "name": "stdout",
     "output_type": "stream",
     "text": [
      "136\n"
     ]
    }
   ],
   "source": [
    "import pandas as pd\n",
    "\n",
    "regions_dict = {\n",
    "    \"Central\": [\n",
    "        \"CENTRAL AREA\", \"BISHAN\", \"BUKIT MERAH\", \"BUKIT TIMAH\", \"DOWNTOWN CORE\", \"GEYLANG\", \"KALLANG\",\n",
    "        \"MARINA EAST\", \"MARINA SOUTH\", \"MARINE PARADE\", \"MUSEUM\", \"NEWTON\", \"NOVENA\", \"ORCHARD\", \"OUTRAM\",\n",
    "        \"QUEENSTOWN\", \"RIVER VALLEY\", \"ROCHOR\", \"SINGAPORE RIVER\", \"SOUTHERN ISLANDS\", \"STRAITS VIEW\", \"TANGLIN\", \"TOA PAYOH\", \"BIDADARI\",\n",
    "        \"ALKAFF\", \"WOODLEIGH\", \"RACE COURSE\", \"BOON TIONG\", \"ALBERT\", \"JALAN DUSUN\", \"ALEXANDRA VILLAGE\", \"SIN MING\", \"MARINE\", \"BRIGHT HILL\",\n",
    "        \"THOMSTON\", \"BALESTIER\", \"JALAN RUMAH TINGGI\", \"REDHILL CLOSE\", \"HOY FATT\", \"LENGKOK BAHRU\", \"JALAN TENTERAM\", \"LORONG LIMAU\",\n",
    "        \"MOULMEIN\", \"COMMONWEALTH\", \"CLARENCE LANE\", \"CANTONMENT CLOSE\", \"BEACH\", \"KELANTAN LANE\", \"NORTH BRIDGE\", \"ROWELL COURT\", \"VEERASAMY\",\n",
    "        \"JALAN SULTAN\", \"CRAWFORD LANE\", \"CHIN SWEE\", \"DEPOT\", \"MARGARET DRIVE\", \"HAVELOCK ROAD\", \"GANGES AVENUE\", \"INDUS ROAD\", \n",
    "        \"TAMAN HO SWEE\", \"JALAN BATU\", \"KAMPONG ARANG ROAD\", \"JALAN KUKOH MSCP\", \"JALAN MEMBINA\", \"KRETA AYER BASEMENT CAR PARK\", \n",
    "        \"KRETA AYER MSCP\", \"BENDEMEER ROAD\", \"WHAMPOA WEST\", \"KLANG LANE\", \"FARRER PARK ROAD\", \"GLOUCESTER ROAD\", \"DORSET ROAD\", \n",
    "        \"DURHAM ROAD\", \"KENT ROAD\", \"CASSIA CRESCENT\", \"JALAN DUA\", \"CIRCUIT ROAD\", \"MCNAIR ROAD\", \"KING GEORGE AVENUE\", \"FRENCH ROAD\", \n",
    "        \"BRAS BASAH\", \"THOMSON\", \"CHANDER\", \"PERUMAL\", \"BOON KENG\", \"BUFFALO\", \"SAINT MICHAEL\", \"CANTONMENT ROAD\", \"QUEEN\", \n",
    "        \"EMPRESS ROAD\", \"FARRER ROAD\", \"HENDERSON CRESCENT\", \"REDHILL LANE\", \"HENDERSON ROAD\", \"ALEXANDRA ROAD\", \"HONG LIM MSCP\", \n",
    "        \"DELTA AVENUE\", \"BEO CRESCENT\", 'KRETA AYER', 'WHAMPOA SOUTH', 'CAMBRIDGE ROAD', 'PINE LANE', 'KIM TIAN', 'MEI LING STREET', \n",
    "        'MAUDE ROAD', 'MACPHERSON LANE', 'DAWSON RD', 'ELIAS ROAD', 'EDGEDALE', 'EDGEFIELD', 'SUMANG', 'NORTHSHORE', 'POTONG PASIR AVENUE', \n",
    "        'PARK CRESCENT MSCP', 'STIRLING ROAD', 'QUEENSWAY', 'STRATHMORE AVENUE', 'MEI CHIN ROAD', 'HOLLAND', 'NORTH BUONA VISTA ROAD', \n",
    "        'HOLLAND CLOSE', 'STRATHMORE', 'DAWSON ROAD', 'EVERTON PARK', 'EVERTON ROAD', 'REDHILL', 'SAINT GEORGE', 'SHUNFU'],\n",
    "    \"East\": [\"BEDOK\", \"CHANGI\", \"CHANGI BAY\", \"PASIR RIS\", \"PAYA LEBAR\", \"TAMPINES\", \"ALJUNIED\", \"ALJUNIED\", \"JALAN TENAGA\", \n",
    "             \"CHAI CHEE AVENUE\", \"CHAI CHEE\", \"CHAI CHEE\", \"PINE CLOSE\", \"BALAM\", \"PIPIT\", \"OLD AIRPORT\", \"LENGKONG TIGA\", \"MARINE TERRACE\", \n",
    "             \"BEDOK SOUTH\", \"EUNOS\", \"LORONG AH SOO\", \"HAIG ROAD\", \"TELOK PAKU ROAD\", 'ZION ROAD', 'KAMPONG KAYU', 'JOO CHIAT ROAD', \n",
    "             'JELLICOE ROAD', 'TAH CHING ROAD', 'UBI', 'DAKOTA CRESCENT', 'YUNG SHENG ROAD', 'SIMS', 'BEDOK SOUTH', 'EAST COAST'],\n",
    "    \"North\": [\"CENTRAL WATER CATCHMENT\", \"LIM CHU KANG\", \"MANDAI\", \"SEMBAWANG\", \"SIMPANG\", \"SUNGEI KADUT\", \"WOODLANDS\", \"YISHUN\", \n",
    "             \"TECK WHYE AVENUE\", \"KEAT HONG LINK\", 'ADMIRALTY', 'CANBERRA', 'LOMPANG ROAD'],\n",
    "    \"North-East\": [\"ANG MO KIO\", \"HOUGANG\", \"NORTH-EASTERN ISLANDS\", \"PUNGGOL\", \"SELETAR\", \"SENGKANG\", \"SENGKANG NEW TOWN\", \"RIVERVALE\", \n",
    "                   \"COMPASSVALE\", \"BUANGKOK\", \"ANCHORVALE\", \"FERNVALE\", \"JALAN KAYU\", \"SERANGOON\", \"LORONG LEW LIAN\", \"DEFU LANE\", \n",
    "                   \"JALAN\", \"WHAMPOA\", 'MONTREAL', 'MONTREAL DRIVE', 'MONTREAL LINK', 'CHENG YAN'],\n",
    "    \"West\": [\"BUKIT\", \"BUKIT BATOK\", \"BUKIT PANJANG\", \"BOON LAY\", \"PIONEER\", \"CHOA CHU KANG\", \"CLEMENTI\", \"JURONG EAST\", \"JURONG WEST\", \n",
    "             \"TENGAH\", \"TUAS\", \"WESTERN ISLANDS\", \"WESTERN WATER CATCHMENT\", \"BENOI\", \"GHIM MOH\", \"GUL\", \"PANDAN GARDENS\", \"JURONG ISLAND\", \n",
    "             \"KENT RIDGE\", \"NANYANG\", \"PIONEER\", \"PASIR LABA\", \"TEBAN GARDENS\", \"TOH TUCK\", \"TUAS SOUTH\", \"WEST COAST\", \"DOVER\",\n",
    "             \"BANGKIT\", \"FAJAR\", \"JELAPANG\", \"SENJA\", \"SEGAR\", \"FAJAR\", \"CASHEW\", \"GANGSA ROAD/PETIR\", \"GANGSA\", \"PETIR\",\n",
    "             \"TECK WHYE LANE\", \"KEAT HONG CLOSE\", \"UPPER JURONG\", \"JURONG GATEWAY\", \"TOH GUAN\", \"JELEBU\", 'WELLINGTON']\n",
    "}\n",
    "\n",
    "df_carpark = pd.read_csv(\"HDBCarparkInformation.csv\")\n",
    "\n",
    "unknown_add = []\n",
    "# Function to assign region based on address\n",
    "def get_region(address):\n",
    "    for region, areas in regions_dict.items():\n",
    "        if any(area in address for area in areas):\n",
    "            return region\n",
    "    unknown_add.append(address)\n",
    "    return 'Unknown'\n",
    "\n",
    "# Apply the function to create the 'region' column\n",
    "df_carpark['region'] = df_carpark['address'].apply(get_region)\n",
    "df_carpark.to_csv('Checkmark2.csv')\n",
    "print(len(unknown_add))"
   ]
  },
  {
   "cell_type": "code",
   "execution_count": null,
   "id": "b3c2e971-cad2-4f0d-b3d8-f656a7835cb0",
   "metadata": {},
   "outputs": [],
   "source": [
    "locations_cleaned = [\n",
    "    'SPOTTISWOODE', 'SPOONER ROAD', 'SELEGIE', 'TELOK BLANGAH', 'MOH GUAN TERRACE', \n",
    "    'GUAN CHUAN STREET', 'ENG WATT STREET', 'ENG HOON STREET', 'KIM PONG ROAD', \n",
    "    'KAMPONG BAHRU ROAD', 'KERBSIDE TIONG BAHRU ESTATE', 'SENG POH ROAD',\n",
    "    'TIONG POH ROAD/KENG KIAT STREET', 'PENG NGUAN STREET/CHAY YAN STREET', \n",
    "    'YONG SIAK STREET/MOH GUAN TERRACE', 'SENG POH LANE', 'PLANTATION CRESCENT', \n",
    "    'YUNG KUANG ROAD', 'YUNG HO ROAD', 'CORPORATION DRIVE', 'TANJONG PAGAR', \n",
    "    'KIM KEAT', 'TOWNER ROAD', 'TECK WHYE CRESCENT', 'TOH YI DRIVE', \n",
    "    'TOH YI DRIVE', 'JOO SENG ROAD', 'UPPER CROSS', 'BT BATOK WEST', \n",
    "    'WATERLOO BASEMENT','CHAMPIONS WAY', 'MARSILING', 'YORK HILL'\n",
    "]"
   ]
  }
 ],
 "metadata": {
  "kernelspec": {
   "display_name": "Python 3 (ipykernel)",
   "language": "python",
   "name": "python3"
  },
  "language_info": {
   "codemirror_mode": {
    "name": "ipython",
    "version": 3
   },
   "file_extension": ".py",
   "mimetype": "text/x-python",
   "name": "python",
   "nbconvert_exporter": "python",
   "pygments_lexer": "ipython3",
   "version": "3.12.4"
  }
 },
 "nbformat": 4,
 "nbformat_minor": 5
}
