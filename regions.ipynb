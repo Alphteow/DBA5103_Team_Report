{
 "cells": [
  {
   "cell_type": "code",
   "execution_count": 40,
   "id": "e320e30c",
   "metadata": {},
   "outputs": [],
   "source": [
    "import pandas as pd\n",
    "import re"
   ]
  },
  {
   "cell_type": "code",
   "execution_count": 41,
   "id": "78b4954d-4bdf-42b1-91d6-e09f72a4d957",
   "metadata": {},
   "outputs": [
    {
     "name": "stdout",
     "output_type": "stream",
     "text": [
      "0\n"
     ]
    }
   ],
   "source": [
    "regions_dict = {\n",
    "    \"Central\": [\n",
    "        \"CENTRAL AREA\", \"BISHAN\", \"BUKIT MERAH\", \"BUKIT TIMAH\", \"DOWNTOWN CORE\", \"GEYLANG\", \"KALLANG\",\n",
    "        \"MARINA EAST\", \"MARINA SOUTH\", \"MARINE PARADE\", \"MUSEUM\", \"NEWTON\", \"NOVENA\", \"ORCHARD\", \"OUTRAM\",\n",
    "        \"QUEENSTOWN\", \"RIVER VALLEY\", \"ROCHOR\", \"SINGAPORE RIVER\", \"SOUTHERN ISLANDS\", \"STRAITS VIEW\", \"TANGLIN\", \n",
    "        \"TOA PAYOH\", \"BIDADARI\", \"ALKAFF\", \"WOODLEIGH\", \"RACE COURSE\", \"BOON TIONG\", \"ALBERT\", \"JALAN DUSUN\", \n",
    "        \"ALEXANDRA VILLAGE\", \"SIN MING\", \"MARINE\", \"BRIGHT HILL\", \"THOMSTON\", \"BALESTIER\", \"JALAN RUMAH TINGGI\", \n",
    "        \"REDHILL CLOSE\", \"HOY FATT\", \"LENGKOK BAHRU\", \"JALAN TENTERAM\", \"LORONG LIMAU\", \"MOULMEIN\", \"COMMONWEALTH\", \n",
    "        \"CLARENCE LANE\", \"CANTONMENT CLOSE\", \"BEACH\", \"KELANTAN LANE\", \"NORTH BRIDGE\", \"ROWELL COURT\", \"VEERASAMY\",\n",
    "        \"JALAN SULTAN\", \"CRAWFORD LANE\", \"CHIN SWEE\", \"DEPOT\", \"MARGARET DRIVE\", \"HAVELOCK ROAD\", \"GANGES AVENUE\", \n",
    "        \"INDUS ROAD\", \"TAMAN HO SWEE\", \"JALAN BATU\", \"KAMPONG ARANG ROAD\", \"JALAN KUKOH MSCP\", \"JALAN MEMBINA\", \n",
    "        \"KRETA AYER BASEMENT CAR PARK\", \"KRETA AYER MSCP\", \"BENDEMEER ROAD\", \"WHAMPOA WEST\", \"KLANG LANE\", \n",
    "        \"FARRER PARK ROAD\", \"GLOUCESTER ROAD\", \"DORSET ROAD\", \"DURHAM ROAD\", \"KENT ROAD\", \"CASSIA CRESCENT\", \n",
    "        \"JALAN DUA\", \"CIRCUIT ROAD\", \"MCNAIR ROAD\", \"KING GEORGE AVENUE\", \"FRENCH ROAD\", \"BRAS BASAH\", \"THOMSON\", \n",
    "        \"CHANDER\", \"PERUMAL\", \"BOON KENG\", \"BUFFALO\", \"SAINT MICHAEL\", \"CANTONMENT ROAD\", \"QUEEN\", \"EMPRESS ROAD\", \n",
    "        \"FARRER ROAD\", \"HENDERSON CRESCENT\", \"REDHILL LANE\", \"HENDERSON ROAD\", \"ALEXANDRA ROAD\", \"HONG LIM MSCP\", \n",
    "        \"DELTA AVENUE\", \"BEO CRESCENT\", 'KRETA AYER', 'WHAMPOA SOUTH', 'CAMBRIDGE ROAD', 'PINE LANE', 'KIM TIAN', \n",
    "        'MEI LING STREET', 'MAUDE ROAD', 'MACPHERSON LANE', 'DAWSON RD', 'ELIAS ROAD', 'EDGEDALE', 'EDGEFIELD', \n",
    "        'SUMANG', 'NORTHSHORE', 'POTONG PASIR AVENUE', 'PARK CRESCENT MSCP', 'STIRLING ROAD', 'QUEENSWAY', \n",
    "        'STRATHMORE AVENUE', 'MEI CHIN ROAD', 'HOLLAND', 'NORTH BUONA VISTA ROAD', 'HOLLAND CLOSE', 'STRATHMORE', \n",
    "        'DAWSON ROAD', 'EVERTON PARK', 'EVERTON ROAD', 'REDHILL', 'SAINT GEORGE', 'SHUNFU',\n",
    "        \"SAGO LANE\", \"SPOONER\", \"SELEGIE ROAD\", \"SPOTTISWOODE PARK\", \"TELOK BLANGAH\", \"MOH GUAN TERRACE\", \n",
    "        \"CHAY YAN STREET\", \"GUAN CHUAN STREET\", \"ENG WATT STREET\", \"ENG HOON STREET\", \"KIM PONG ROAD\", \n",
    "        \"TIONG BAHRU\", \"SENG POH\", \"TIONG POH ROAD\", \"PENG NGUAN STREET\", \"TANJONG PAGAR\", \"KIM KEAT AVE\", \n",
    "        \"LORONG 8 INDUSTRIAL PARK\", \"TOWNER ROAD\", \"UPPER CROSS STREET\", \"WATERLOO\", \"YORK HILL\", \"KAMPONG BAHRU\", \"KIM KEAT\"\n",
    "    ],\n",
    "    \"East\": [\n",
    "        \"BEDOK\", \"CHANGI\", \"CHANGI BAY\", \"PASIR RIS\", \"PAYA LEBAR\", \"TAMPINES\", \"ALJUNIED\", \"ALJUNIED\", \n",
    "        \"JALAN TENAGA\", \"CHAI CHEE AVENUE\", \"CHAI CHEE\", \"PINE CLOSE\", \"BALAM\", \"PIPIT\", \"OLD AIRPORT\", \n",
    "        \"LENGKONG TIGA\", \"MARINE TERRACE\", \"BED0K SOUTH\", \"EUNOS\", \"LORONG AH SOO\", \"HAIG ROAD\", \n",
    "        \"TELOK PAKU ROAD\", 'ZION ROAD', 'KAMPONG KAYU', 'JOO CHIAT ROAD', 'JELLICOE ROAD', \n",
    "        'TAH CHING ROAD', 'UBI', 'DAKOTA CRESCENT', 'YUNG SHENG ROAD', 'SIMS', 'BEDOK SOUTH', 'EAST COAST', 'SIMEI'\n",
    "    ],\n",
    "    \"North\": [\n",
    "        \"CENTRAL WATER CATCHMENT\", \"LIM CHU KANG\", \"MANDAI\", \"SEMBAWANG\", \"SIMPANG\", \"SUNGEI KADUT\", \n",
    "        \"WOODLANDS\", \"YISHUN\", \"TECK WHYE AVENUE\", \"KEAT HONG LINK\", 'ADMIRALTY', 'CANBERRA', \n",
    "        'LOMPANG ROAD', \"MARSILING\", \"CHAMPIONS WAY\", 'WELLINGTON'\n",
    "    ],\n",
    "    \"North-East\": [\n",
    "        \"ANG MO KIO\", \"HOUGANG\", \"NORTH-EASTERN ISLANDS\", \"PUNGGOL\", \"SELETAR\", \"SENGKANG\", \n",
    "        \"SENGKANG NEW TOWN\", \"RIVERVALE\", \"COMPASSVALE\", \"BUANGKOK\", \"ANCHORVALE\", \"FERNVALE\", \n",
    "        \"JALAN KAYU\", \"SERANGOON\", \"LORONG LEW LIAN\", \"DEFU LANE\", \"JALAN\", \"WHAMPOA\", \n",
    "        'MONTREAL', 'MONTREAL DRIVE', 'MONTREAL LINK', 'CHENG YAN', \"JOO SENG\"\n",
    "    ],\n",
    "    \"West\": [\n",
    "        \"BUKIT\", \"BUKIT BATOK\", \"BUKIT PANJANG\", \"BOON LAY\", \"PIONEER\", \"CHOA CHU KANG\", \"CLEMENTI\", \n",
    "        \"JURONG EAST\", \"JURONG WEST\", \"TENGAH\", \"TUAS\", \"WESTERN ISLANDS\", \"WESTERN WATER CATCHMENT\", \n",
    "        \"BENOI\", \"GHIM MOH\", \"GUL\", \"PANDAN GARDENS\", \"JURONG ISLAND\", \"KENT RIDGE\", \"NANYANG\", \n",
    "        \"PIONEER\", \"PASIR LABA\", \"TEBAN GARDENS\", \"TOH TUCK\", \"TUAS SOUTH\", \"WEST COAST\", \"DOVER\",\n",
    "        \"BT BATOK WEST\", \"TECK WHYE CRESCENT\", \"TOH YI DRIVE\", 'JURONG', 'BANGKIT', 'FAJAR', 'JELAPANG',\n",
    "        'GANGSA', 'SENJA', 'JELEBU', 'PETIR', 'SEGAR', 'TECK WHYE', 'KEAT HONG', 'TOH GUAN', 'CASHEW', 'PLANTATION', \n",
    "        \"YUNG HO\", \"YUNG KUANG\", \"YUNG LOH\", \"YUNG PING\", \"HO CHING\", \"KANG CHING\", \"CORPORATION\", \"YUAN CHING\", \"YUNG AN\"  \n",
    "    ]\n",
    "}\n",
    "\n",
    "df_carpark = pd.read_csv(\"HDBCarparkInformation.csv\")\n",
    "\n",
    "unknown_add = []\n",
    "# Function to assign region based on address\n",
    "def get_region(address):\n",
    "    for region, areas in regions_dict.items():\n",
    "        if any(area in address for area in areas):\n",
    "            return region\n",
    "    unknown_add.append(address)\n",
    "    return 'Unknown'\n",
    "\n",
    "# Apply the function to create the 'region' column\n",
    "df_carpark['region'] = df_carpark['address'].apply(get_region)\n",
    "df_carpark.to_csv('Checkmark2.csv')\n",
    "print(len(unknown_add))"
   ]
  },
  {
   "cell_type": "code",
   "execution_count": 42,
   "id": "b3c2e971-cad2-4f0d-b3d8-f656a7835cb0",
   "metadata": {},
   "outputs": [],
   "source": [
    "locations_cleaned = [\n",
    "    'SPOTTISWOODE', 'SPOONER ROAD', 'SELEGIE', 'TELOK BLANGAH', 'MOH GUAN TERRACE', \n",
    "    'GUAN CHUAN STREET', 'ENG WATT STREET', 'ENG HOON STREET', 'KIM PONG ROAD', \n",
    "    'KAMPONG BAHRU ROAD', 'KERBSIDE TIONG BAHRU ESTATE', 'SENG POH ROAD',\n",
    "    'TIONG POH ROAD/KENG KIAT STREET', 'PENG NGUAN STREET/CHAY YAN STREET', \n",
    "    'YONG SIAK STREET/MOH GUAN TERRACE', 'SENG POH LANE', 'PLANTATION CRESCENT', \n",
    "    'YUNG KUANG ROAD', 'YUNG HO ROAD', 'CORPORATION DRIVE', 'TANJONG PAGAR', \n",
    "    'KIM KEAT', 'TOWNER ROAD', 'TECK WHYE CRESCENT', 'TOH YI DRIVE', \n",
    "    'TOH YI DRIVE', 'JOO SENG ROAD', 'UPPER CROSS', 'BT BATOK WEST', \n",
    "    'WATERLOO BASEMENT','CHAMPIONS WAY', 'MARSILING', 'YORK HILL'\n",
    "]"
   ]
  },
  {
   "cell_type": "code",
   "execution_count": 43,
   "id": "3e2168a7",
   "metadata": {},
   "outputs": [
    {
     "data": {
      "text/plain": [
       "array([], dtype=object)"
      ]
     },
     "execution_count": 43,
     "metadata": {},
     "output_type": "execute_result"
    }
   ],
   "source": [
    "unknowndf = df_carpark.loc[df_carpark['region'] == 'Unknown']\n",
    "\n",
    "unknowndf.address.unique()"
   ]
  },
  {
   "cell_type": "code",
   "execution_count": 44,
   "id": "af127d0f",
   "metadata": {},
   "outputs": [],
   "source": [
    "def clean_address(address): \n",
    "    # Remove 'BLK', numbers, and 'CAR PARK' \n",
    "    cleaned = re.sub(r'BLK\\s*\\d*[\\w\\s/-]*', '', address) # Remove 'BLK' and numbers \n",
    "    cleaned = re.sub(r'\\bCAR PARK\\b', '', cleaned) # Remove 'CAR PARK' \n",
    "    # cleaned = cleaned.strip() # Remove leading/trailing whitespace return cleaned\n",
    "\n",
    "\n",
    "addresses = unknowndf.address.unique()\n",
    "cleaned_addresses = [clean_address(addr) for addr in addresses]\n",
    "\n"
   ]
  }
 ],
 "metadata": {
  "kernelspec": {
   "display_name": "Python 3",
   "language": "python",
   "name": "python3"
  },
  "language_info": {
   "codemirror_mode": {
    "name": "ipython",
    "version": 3
   },
   "file_extension": ".py",
   "mimetype": "text/x-python",
   "name": "python",
   "nbconvert_exporter": "python",
   "pygments_lexer": "ipython3",
   "version": "3.9.10"
  }
 },
 "nbformat": 4,
 "nbformat_minor": 5
}
